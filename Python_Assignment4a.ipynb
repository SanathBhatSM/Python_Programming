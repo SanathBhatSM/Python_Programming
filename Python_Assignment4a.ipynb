{
  "cells": [
    {
      "cell_type": "markdown",
      "metadata": {
        "id": "846Kh0K3b2q7"
      },
      "source": [
        "\"Nine is considered as a lucky number in Chinese culture because it sounds the same as the word \"long-lasting\".\n",
        "The registration number of a car is considered to be lucky if the registration number adds up to 9.\n",
        "The registration number will always be a 4 digit number.\n",
        "\n",
        "Example 1:\n",
        "9099 is considered to be good as\n",
        "9+0+9+9=27\n",
        "2+7=9\n",
        "\n",
        "Example 2:\n",
        "2036 is considered to be not good as\n",
        "2+0+3+6=11\n",
        "1+1=2\n",
        "\n",
        "The solution code is provided but has some minor logical errors, fix it."
      ]
    },
    {
      "cell_type": "code",
      "execution_count": null,
      "metadata": {
        "colab": {
          "base_uri": "https://localhost:8080/",
          "height": 68
        },
        "id": "zZdRNGGzb2q8",
        "outputId": "b136b706-dc27-43b8-990a-a5cf145c48e9"
      },
      "outputs": [
        {
          "name": "stdout",
          "output_type": "stream",
          "text": [
            "Enter 4 digit regestration number\n",
            "2345\n",
            "False\n"
          ]
        }
      ],
      "source": [
        "def check_registration_number(reg_number):\n",
        "    temp=reg_number\n",
        "    result_sum=0\n",
        "    flag=True\n",
        "    while(flag):\n",
        "        while(temp>0):\n",
        "            rem=temp%10\n",
        "            result_sum+=rem\n",
        "            temp=temp//10\n",
        "        if(result_sum==9):\n",
        "            result=True\n",
        "            break\n",
        "        elif(result_sum>9):\n",
        "            temp=result_sum\n",
        "            result_sum=0\n",
        "        else:\n",
        "            result=False\n",
        "            break\n",
        "    return result\n",
        "\n",
        "print(check_registration_number(int(input(\"Enter 4 digit regestration number\\n\"))))"
      ]
    },
    {
      "cell_type": "markdown",
      "metadata": {
        "id": "UlXdx63Xb2rC"
      },
      "source": [
        "Try out the below code and observe the results."
      ]
    },
    {
      "cell_type": "code",
      "execution_count": null,
      "metadata": {
        "colab": {
          "base_uri": "https://localhost:8080/",
          "height": 690
        },
        "id": "1edfxEgcb2rD",
        "outputId": "8c387f82-4bd5-42a3-b415-672ad5011e6c"
      },
      "outputs": [
        {
          "name": "stdout",
          "output_type": "stream",
          "text": [
            "Length of the PAN card number: 10\n",
            "PAN card\n",
            "Iterating the string using range()\n",
            "A\n",
            "A\n",
            "B\n",
            "G\n",
            "T\n",
            "6\n",
            "7\n",
            "1\n",
            "5\n",
            "H\n",
            "Iterating the string using keyword in\n",
            "A\n",
            "A\n",
            "B\n",
            "G\n",
            "T\n",
            "6\n",
            "7\n",
            "1\n",
            "5\n",
            "H\n",
            "Searching for a character in string\n",
            "Character is not present\n",
            "The numbers in the PAN card number: 6715\n",
            "Last but one 3 characters in the PAN card: 715\n"
          ]
        },
        {
          "ename": "TypeError",
          "evalue": "ignored",
          "output_type": "error",
          "traceback": [
            "\u001b[0;31m---------------------------------------------------------------------------\u001b[0m",
            "\u001b[0;31mTypeError\u001b[0m                                 Traceback (most recent call last)",
            "\u001b[0;32m<ipython-input-8-fa3f2e1a69a5>\u001b[0m in \u001b[0;36m<module>\u001b[0;34m()\u001b[0m\n\u001b[1;32m     28\u001b[0m \u001b[0mprint\u001b[0m\u001b[0;34m(\u001b[0m\u001b[0;34m\"Last but one 3 characters in the PAN card:\"\u001b[0m\u001b[0;34m,\u001b[0m\u001b[0mpancard_number\u001b[0m\u001b[0;34m[\u001b[0m\u001b[0;34m-\u001b[0m\u001b[0;36m4\u001b[0m\u001b[0;34m:\u001b[0m\u001b[0;34m-\u001b[0m\u001b[0;36m1\u001b[0m\u001b[0;34m]\u001b[0m\u001b[0;34m)\u001b[0m\u001b[0;34m\u001b[0m\u001b[0;34m\u001b[0m\u001b[0m\n\u001b[1;32m     29\u001b[0m \u001b[0;34m\u001b[0m\u001b[0m\n\u001b[0;32m---> 30\u001b[0;31m \u001b[0mpancard_number\u001b[0m\u001b[0;34m[\u001b[0m\u001b[0;36m2\u001b[0m\u001b[0;34m]\u001b[0m\u001b[0;34m=\u001b[0m\u001b[0;34m\"A\"\u001b[0m \u001b[0;31m#This line will result in an error, i.e., string is immutable\u001b[0m\u001b[0;34m\u001b[0m\u001b[0;34m\u001b[0m\u001b[0m\n\u001b[0m\u001b[1;32m     31\u001b[0m \u001b[0mprint\u001b[0m\u001b[0;34m(\u001b[0m\u001b[0mpancard_number\u001b[0m\u001b[0;34m)\u001b[0m\u001b[0;34m\u001b[0m\u001b[0;34m\u001b[0m\u001b[0m\n",
            "\u001b[0;31mTypeError\u001b[0m: 'str' object does not support item assignment"
          ]
        }
      ],
      "source": [
        "pancard_number=\"AABGT6715H\"\n",
        "\n",
        "#Length of the string\n",
        "print(\"Length of the PAN card number:\", len(pancard_number))\n",
        "\n",
        "#Concatenating two strings\n",
        "name1 =\"PAN \"\n",
        "name2=\"card\"\n",
        "name=name1+name2\n",
        "print(name)\n",
        "\n",
        "print(\"Iterating the string using range()\")\n",
        "for index in range(0,len(pancard_number)):\n",
        "    print(pancard_number[index])\n",
        "\n",
        "print(\"Iterating the string using keyword in\")\n",
        "for value in pancard_number:\n",
        "    print(value)\n",
        "\n",
        "print(\"Searching for a character in string\")\n",
        "if \"Z\" in pancard_number:\n",
        "    print(\"Character present\")\n",
        "else:\n",
        "    print(\"Character is not present\")\n",
        "\n",
        "#Slicing a string\n",
        "print(\"The numbers in the PAN card number:\", pancard_number[5:9])\n",
        "print(\"Last but one 3 characters in the PAN card:\",pancard_number[-4:-1])\n",
        "\n",
        "#pancard_number[2]=\"A\" #This line will result in an error, i.e., string is immutable\n",
        "print(pancard_number)"
      ]
    },
    {
      "cell_type": "code",
      "execution_count": null,
      "metadata": {
        "id": "fdsp_0Nnb2rJ"
      },
      "outputs": [],
      "source": []
    }
  ],
  "metadata": {
    "colab": {
      "provenance": []
    },
    "kernelspec": {
      "display_name": "Python 3",
      "language": "python",
      "name": "python3"
    },
    "language_info": {
      "codemirror_mode": {
        "name": "ipython",
        "version": 3
      },
      "file_extension": ".py",
      "mimetype": "text/x-python",
      "name": "python",
      "nbconvert_exporter": "python",
      "pygments_lexer": "ipython3",
      "version": "3.7.3"
    }
  },
  "nbformat": 4,
  "nbformat_minor": 0
}
