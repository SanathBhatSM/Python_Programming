{
  "nbformat": 4,
  "nbformat_minor": 0,
  "metadata": {
    "kernelspec": {
      "display_name": "Python 3",
      "language": "python",
      "name": "python3"
    },
    "language_info": {
      "codemirror_mode": {
        "name": "ipython",
        "version": 3
      },
      "file_extension": ".py",
      "mimetype": "text/x-python",
      "name": "python",
      "nbconvert_exporter": "python",
      "pygments_lexer": "ipython3",
      "version": "3.7.3"
    },
    "colab": {
      "provenance": []
    }
  },
  "cells": [
    {
      "cell_type": "markdown",
      "metadata": {
        "id": "nKQEtiuM2tOR"
      },
      "source": [
        "Write a program to read a complex number from the user and print real and imaginary part using different print statements\n",
        "example:  Input= 3+4j\n",
        "          Output: real part=3\n",
        "                  Imaginary part=4"
      ]
    },
    {
      "cell_type": "code",
      "metadata": {
        "id": "K5LBdgBU2tOS",
        "colab": {
          "base_uri": "https://localhost:8080/",
          "height": 67
        },
        "outputId": "3083acec-a576-4306-e193-484c636bebf2"
      },
      "source": [
        "a1= complex(input(\"Enter a complex number: \"))\n",
        "print(\"real part:\" ,a.real)\n",
        "print(\"imaginary part:\" ,a.imag)\n"
      ],
      "execution_count": null,
      "outputs": [
        {
          "output_type": "stream",
          "text": [
            "Enter a complex number: 3+4j\n",
            "real part: 3.0\n",
            "imaginary part: 4.0\n"
          ],
          "name": "stdout"
        }
      ]
    },
    {
      "cell_type": "markdown",
      "metadata": {
        "id": "XMB9fiYa2tOX"
      },
      "source": [
        "Write a program to read two complex numbers from the user and perform\n",
        "addition, subtraction, multiplication and division of complex numbers. Real and imaginary part should be upto 2 decimal places."
      ]
    },
    {
      "cell_type": "code",
      "metadata": {
        "id": "vMBlZI1H2tOY",
        "colab": {
          "base_uri": "https://localhost:8080/",
          "height": 118
        },
        "outputId": "5a175aa6-7047-4478-e8cc-cb4734fc642a"
      },
      "source": [
        "c1= complex(input(\"Enter a complex number: \"))\n",
        "c2=  complex(input(\"Enter a complex number: \"))\n",
        "print(\"Addition of complex numbers is: \", c1+c2)\n",
        "print(\"subtraction of complex numbers is: \", c1-c2)\n",
        "print(\"multiplication of complex numbers is: \", c1*c2)\n",
        "print(\"division of complex numbers is: \", c1/c2)"
      ],
      "execution_count": null,
      "outputs": [
        {
          "output_type": "stream",
          "text": [
            "Enter a complex number: 1+2j\n",
            "Enter a complex number: 1-2j\n",
            "Addition of complex numbers is:  (2+0j)\n",
            "subtraction of complex numbers is:  4j\n",
            "multiplication of complex numbers is:  (5+0j)\n",
            "division of complex numbers is:  (-0.6+0.8j)\n"
          ],
          "name": "stdout"
        }
      ]
    },
    {
      "cell_type": "markdown",
      "metadata": {
        "id": "c9uKiy2I2tOd"
      },
      "source": [
        "Jack and his three friends have decided to go for a trip by sharing the expenses of the fuel equally.\n",
        "\n",
        "Write a Python program to calculate the amount (in Rs) each of them need to put in for the complete (both to and fro) journey.\n",
        "The program should also display True, if the amount to be paid by each person is divisible by 5, otherwise it should display False. (Hint: Use the relational operators in print statement.)\n",
        "\n",
        "Assume that mileage of the vehicle, amount per litre of fuel and distance for one way are given.\n",
        "\n",
        "Test your code by using the given sample inputs.\n",
        "Verify your code by using the 2nd sample input(highlighted) given below:\n",
        "\n",
        "Mileage of the vehicle (km/litre of fuel)=12\n",
        "Amount per litre of fuel (Rs)=65\n",
        "Distance for one way (kms)\t=96\n",
        "Expected Output= 260.0, true\n",
        "\n"
      ]
    },
    {
      "cell_type": "code",
      "metadata": {
        "id": "MXvazTiV2tOe",
        "colab": {
          "base_uri": "https://localhost:8080/",
          "height": 101
        },
        "outputId": "5a4a5d47-4cf6-4e0e-8e04-9534d307795e"
      },
      "source": [
        "mage=int(input(\"enter the mileage of the vehicle: \")) #enter in km/l\n",
        "amt=int(input(\"enter the amount per litre fuel: \")) # enter in rupees\n",
        "dist= int(input(\"enter the distance: \")) #user is supposed to enter one way distance in kms\n",
        "amtshare = (((dist*2)/mage)*amt)/4\n",
        "print(amtshare)\n",
        "print(amtshare%5==0)"
      ],
      "execution_count": null,
      "outputs": [
        {
          "output_type": "stream",
          "text": [
            "enter the mileage of the vehicle: 12\n",
            "enter the amount per litre fuel: 65\n",
            "enter the distance: 96\n",
            "260.0\n",
            "True\n"
          ],
          "name": "stdout"
        }
      ]
    },
    {
      "cell_type": "code",
      "metadata": {
        "id": "6pxy5RA32tOh",
        "colab": {
          "base_uri": "https://localhost:8080/",
          "height": 101
        },
        "outputId": "421c012c-fdaf-45e3-dee4-6073b45e01ba"
      },
      "source": [
        "mage=int(input(\"enter the mileage of the vehicle: \")) #enter in km/l\n",
        "amt=int(input(\"enter the amount per litre fuel: \")) #enter in rupees\n",
        "dist= int(input(\"enter the distance: \")) #user is supposed to enter one way distance\n",
        "amtshare = (((dist*2)/mage)*amt)/4\n",
        "print(amtshare)\n",
        "print(amtshare%5==0)"
      ],
      "execution_count": null,
      "outputs": [
        {
          "output_type": "stream",
          "text": [
            "enter the mileage of the vehicle: 10\n",
            "enter the amount per litre fuel: 100\n",
            "enter the distance: 100\n",
            "500.0\n",
            "True\n"
          ],
          "name": "stdout"
        }
      ]
    },
    {
      "cell_type": "markdown",
      "metadata": {
        "id": "Wt12pUdu2tOm"
      },
      "source": [
        "Write a python program to find and display the product of three positive integer values based on the rule mentioned below:\n",
        "\n",
        "It should display the product of the three values except when one of the integer value is 7. In that case, 7 should not be included in the product and the values to its left also should not be included.\n",
        "If there is only one value to be considered, display that value itself. If no values can be included in the product, display -1.\n",
        "\n",
        "Note: Assume that if 7 is one of the positive integer values, then it will occur only once. Refer the sample I/O given below.\n",
        "Sample Input\tExpected Output\n",
        "2, 5, 3\t             30\n",
        "3, 7, 8\t             8\n",
        "7, 4, 3\t             12\n",
        "1, 5, 7              -1\n",
        "\n",
        "Hint: Reading the input you can use te following statement\n",
        "a,b,c=input(\"Enter the three numbers\").split(\",\")\n",
        "a=int(a)\n",
        "b=int(b)\n",
        "c=int(c)"
      ]
    },
    {
      "cell_type": "code",
      "metadata": {
        "id": "Iy4s8nL2JrcN",
        "colab": {
          "base_uri": "https://localhost:8080/",
          "height": 50
        },
        "outputId": "7d1a18ee-39ef-4336-eec6-444b025b385d"
      },
      "source": [
        "a,b,c =input(\"Enter the three numbers\").split(\",\")\n",
        "a=int(a)\n",
        "b=int(b)\n",
        "c=int(c)\n",
        "if a==7 and b==7 and c==7:\n",
        "  print(-1)\n",
        "elif a==7:\n",
        "  if b<=7 and c<=7:\n",
        "    print(-1)\n",
        "  elif b<=7:\n",
        "    print(c)\n",
        "  elif c<=7:\n",
        "    print(b)\n",
        "  else:\n",
        "    print(b*c)\n",
        "elif b==7:\n",
        "  if a<=7 and c<=7:\n",
        "    print(-1)\n",
        "  elif a<=7:\n",
        "    print(c)\n",
        "  elif c<=7:\n",
        "    print(a)\n",
        "  else:\n",
        "    print(a*c)\n",
        "elif c==7:\n",
        "  if b<=7 and a<=7:\n",
        "    print(-1)\n",
        "  elif b<=7:\n",
        "    print(a)\n",
        "  elif a<=7:\n",
        "    print(b)\n",
        "  else:\n",
        "    print(b*a)\n",
        "else:\n",
        "  print(a*b*c)\n"
      ],
      "execution_count": null,
      "outputs": [
        {
          "output_type": "stream",
          "text": [
            "Enter the three numbers9,3,4\n",
            "108\n"
          ],
          "name": "stdout"
        }
      ]
    },
    {
      "cell_type": "markdown",
      "metadata": {
        "id": "OE5maqn32tOn"
      },
      "source": [
        "Write a python program to print the number of digits in an input positive integer\n",
        "Example: num=9453  output: 4\n",
        "         num=453   output: 3"
      ]
    },
    {
      "cell_type": "code",
      "metadata": {
        "id": "iq2yyaGd2tOp",
        "colab": {
          "base_uri": "https://localhost:8080/",
          "height": 50
        },
        "outputId": "12439a87-b998-4723-eb9e-fba79ea2cef6"
      },
      "source": [
        "num= int(input(\"\"))\n",
        "count=0\n",
        "while num>0:\n",
        "  num=num//10\n",
        "  count=count+1\n",
        "print(\"the number of digits in the number are:\" ,count)"
      ],
      "execution_count": null,
      "outputs": [
        {
          "output_type": "stream",
          "text": [
            "453\n",
            "the number of digits in the number are: 3\n"
          ],
          "name": "stdout"
        }
      ]
    },
    {
      "cell_type": "markdown",
      "metadata": {
        "id": "Ha4CJERv2tOs"
      },
      "source": [
        "Write a python program to print the digits of the input integer\n",
        "Example:\n",
        "1) Input: 5893  output: 5,8,9,3\n",
        "2) Input: 621  output:  6,2,1\n",
        "3) Input: 29012  output: 2,9,0,1,2\n"
      ]
    },
    {
      "cell_type": "code",
      "metadata": {
        "id": "PX6raL5U2tOt",
        "colab": {
          "base_uri": "https://localhost:8080/",
          "height": 50
        },
        "outputId": "ce6c5e03-f763-43a5-c189-afd138c874c3"
      },
      "source": [
        "numero=int(input(\"enter a number:\"))  #input taken as integer\n",
        "for i in str(numero):                 # we know that string is an array therefore we convert number to string\n",
        " print (i, end=\", \")\n"
      ],
      "execution_count": null,
      "outputs": [
        {
          "output_type": "stream",
          "text": [
            "enter a number:5893\n",
            "5, 8, 9, 3, "
          ],
          "name": "stdout"
        }
      ]
    },
    {
      "cell_type": "markdown",
      "metadata": {
        "id": "i11UbwRv2tOy"
      },
      "source": [
        "Write a python program to find out if a given year is a leap year or not.\n",
        "Any year which is divisible by 4 and not by 100 are leap years. Otherwise, any year which is divisible by 400 is also a leap year.\n",
        "example: year=2400  output: leap year\n",
        "         year=600 output: Not leap year\n",
        "         year=2020 output: Leap year"
      ]
    },
    {
      "cell_type": "code",
      "metadata": {
        "id": "YIEuvn5C2tOz",
        "colab": {
          "base_uri": "https://localhost:8080/",
          "height": 50
        },
        "outputId": "8116568c-5a88-4deb-88ef-3bf69cc436ad"
      },
      "source": [
        "year= int(input(\"enter year:\"))\n",
        "if year%4==0 and year%100!=0 or year%400==0:\n",
        "  print(\"Leap year \")\n",
        "else:\n",
        "  print(\"Not a leap year\")"
      ],
      "execution_count": null,
      "outputs": [
        {
          "output_type": "stream",
          "text": [
            "enter year:600\n",
            "Not a leap year\n"
          ],
          "name": "stdout"
        }
      ]
    },
    {
      "cell_type": "markdown",
      "metadata": {
        "id": "EgPVB7NJ2tO1"
      },
      "source": [
        "Write a Python program to calculate and display the interest on a loan amount (Rupees) using the formula:\n",
        "interest=(principal * rate of interest * time)/100\n",
        "\n",
        "Test your code by using the given sample inputs.\n",
        "Verify your code by using the 2nd sample input(highlighted) given below:\n",
        "\n",
        "Sample Input\t                            Expected Output\n",
        "Principal\tRate of Interest\tTime\n",
        "20000\t             5\t         10\t              10000.0\n",
        "7800\t            7.7\t         26"
      ]
    },
    {
      "cell_type": "code",
      "metadata": {
        "id": "dZFr54D22tO3",
        "colab": {
          "base_uri": "https://localhost:8080/",
          "height": 84
        },
        "outputId": "85bf27fd-4d28-44e8-9fb0-4955002df6b0"
      },
      "source": [
        "prin=float(input(\"Enter the principal amount:\"))\n",
        "rate=float(input(\"Enter the roi:\"))\n",
        "time=int(input(\"enter the time duration:\"))# should be entered in years\n",
        "print(\"Interest on loan is: \",(prin*rate*time)/100)"
      ],
      "execution_count": null,
      "outputs": [
        {
          "output_type": "stream",
          "text": [
            "Enter the principal amount:7800\n",
            "Enter the roi:7.7\n",
            "enter the time duration:26\n",
            "Interest on loan is:  15615.6\n"
          ],
          "name": "stdout"
        }
      ]
    },
    {
      "cell_type": "markdown",
      "metadata": {
        "id": "YPvmt8GP2tO6"
      },
      "source": [
        "A three digit number is said to be an “Armstrong number” if the sum of the third power of its individual digits is equal to the number itself.\n",
        "Example: 371 is an Armstrong number as 371 = 33 + 73 + 13\n",
        "              407 is an Armstrong number as 407 = 43 + 03 + 73\n",
        "Write a pseudo-code to check whether a given three digit number is an Armstrong number."
      ]
    },
    {
      "cell_type": "code",
      "metadata": {
        "id": "qOdCcoh92tO7",
        "colab": {
          "base_uri": "https://localhost:8080/",
          "height": 50
        },
        "outputId": "545516bf-8500-4437-cf5d-dfe3a2b2ecd1"
      },
      "source": [
        "p=int(input(\"\"))\n",
        "q=0\n",
        "r=0\n",
        "s=0\n",
        "while p>0:\n",
        "  q=q+((p%10)**3)\n",
        "  p=p//10\n",
        "print(q)\n"
      ],
      "execution_count": null,
      "outputs": [
        {
          "output_type": "stream",
          "text": [
            "371\n",
            "371\n"
          ],
          "name": "stdout"
        }
      ]
    }
  ]
}