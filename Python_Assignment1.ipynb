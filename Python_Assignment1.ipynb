{
  "nbformat": 4,
  "nbformat_minor": 0,
  "metadata": {
    "kernelspec": {
      "display_name": "Python 3",
      "language": "python",
      "name": "python3"
    },
    "language_info": {
      "codemirror_mode": {
        "name": "ipython",
        "version": 3
      },
      "file_extension": ".py",
      "mimetype": "text/x-python",
      "name": "python",
      "nbconvert_exporter": "python",
      "pygments_lexer": "ipython3",
      "version": "3.7.3"
    },
    "colab": {
      "provenance": []
    }
  },
  "cells": [
    {
      "cell_type": "markdown",
      "metadata": {
        "id": "kHIY1L9ThbEl"
      },
      "source": [
        "1. In this program, your task is just to read the input integer and print it. Input: The input will contain only one number.\n",
        "    Output: Output the same number.\n",
        "    Example:\n",
        "    Input:\n",
        "    10\n",
        "    Output:\n",
        "    10\n"
      ]
    },
    {
      "cell_type": "code",
      "metadata": {
        "id": "RWOhsanshbEo",
        "colab": {
          "base_uri": "https://localhost:8080/",
          "height": 68
        },
        "outputId": "9af3acd2-bd4e-4e64-8ca5-ca4a88f76ab9"
      },
      "source": [
        "#Write code here for the above\n",
        "print(\"enter the number\")\n",
        "num=int(input())\n",
        "print(num)"
      ],
      "execution_count": null,
      "outputs": [
        {
          "output_type": "stream",
          "text": [
            "enter the number\n",
            "10\n",
            "10\n"
          ],
          "name": "stdout"
        }
      ]
    },
    {
      "cell_type": "markdown",
      "metadata": {
        "id": "q-uzNV34hbEy"
      },
      "source": [
        "\n",
        "2. In this program, you will have to take two numbers (integers) as input and print the addition of inputs\n",
        "\n",
        "                 \n"
      ]
    },
    {
      "cell_type": "code",
      "metadata": {
        "id": "qsn7gdW_hbEz",
        "colab": {
          "base_uri": "https://localhost:8080/",
          "height": 85
        },
        "outputId": "f665c3d8-d8bf-4de1-c8cf-ceb9f296114b"
      },
      "source": [
        "##Write code here for the above\n",
        "print(\"enter two numbers a and b\")\n",
        "a=int(input())\n",
        "b=int(input())\n",
        "sum=a + b\n",
        "print(sum)\n"
      ],
      "execution_count": null,
      "outputs": [
        {
          "output_type": "stream",
          "text": [
            "enter two numbers a and b\n",
            "4\n",
            "5\n",
            "9\n"
          ],
          "name": "stdout"
        }
      ]
    },
    {
      "cell_type": "markdown",
      "metadata": {
        "id": "1LewXE6JhbE3"
      },
      "source": [
        "3. In this program you have to read two numbers. Given two numbers (integers) as input, print the smaller number.\n"
      ]
    },
    {
      "cell_type": "code",
      "metadata": {
        "id": "s-Flies1hbE4",
        "colab": {
          "base_uri": "https://localhost:8080/",
          "height": 102
        },
        "outputId": "c7716869-6ee2-44dd-d700-7b52c0aae43a"
      },
      "source": [
        "print(\"enter a number\")\n",
        "num1=int(input())\n",
        "print(\"enter another number\")\n",
        "num2=int(input())\n",
        "if(num1<num2):\n",
        "  print(\"the smallest number is:\",num1)\n",
        "elif(num2<num1):\n",
        "  print(\"the smallest number is:\",num2)\n"
      ],
      "execution_count": null,
      "outputs": [
        {
          "output_type": "stream",
          "text": [
            "enter a number\n",
            "2\n",
            "enter another number\n",
            "3\n",
            "the smallest number is: 2\n"
          ],
          "name": "stdout"
        }
      ]
    },
    {
      "cell_type": "markdown",
      "metadata": {
        "id": "YTSIrnU8hbE8"
      },
      "source": [
        "4. In this program you have read a number from the user and print whether the number is even or odd\n"
      ]
    },
    {
      "cell_type": "code",
      "metadata": {
        "id": "Yib4TIuAhbE8",
        "colab": {
          "base_uri": "https://localhost:8080/",
          "height": 68
        },
        "outputId": "a103b3f5-ce67-4a26-e294-fcb2a1b89f54"
      },
      "source": [
        "print(\"enter a number\")\n",
        "num=int(input())\n",
        "mod=num % 2\n",
        "if mod>0:\n",
        "  print(\"this is an odd number\")\n",
        "else:\n",
        "  print(\"This is an even number\")"
      ],
      "execution_count": null,
      "outputs": [
        {
          "output_type": "stream",
          "text": [
            "enter a number\n",
            "5\n",
            "this is an odd number\n"
          ],
          "name": "stdout"
        }
      ]
    },
    {
      "cell_type": "markdown",
      "metadata": {
        "id": "EWv-XClLhbFA"
      },
      "source": [
        "5. In this program you have to input  two strings and print both the strings in the same line.\n",
        "    Example: string1:  I am learning\n",
        "                 string2: python programming language\n",
        "    Output: I am learning python programming language"
      ]
    },
    {
      "cell_type": "code",
      "metadata": {
        "id": "2mIYvmGHhbFB",
        "colab": {
          "base_uri": "https://localhost:8080/",
          "height": 102
        },
        "outputId": "7ac505da-4a15-4f39-ed6b-f6094591a72c"
      },
      "source": [
        "print(\"enter a string\")\n",
        "str1=input()\n",
        "print(\"enter another string\")\n",
        "str2=input()\n",
        "print(str1,str2)"
      ],
      "execution_count": null,
      "outputs": [
        {
          "output_type": "stream",
          "text": [
            "enter a string\n",
            "good\n",
            "enter another string\n",
            "morning\n",
            "good morning\n"
          ],
          "name": "stdout"
        }
      ]
    },
    {
      "cell_type": "code",
      "metadata": {
        "id": "TyUc4GlPtQK_"
      },
      "source": [],
      "execution_count": null,
      "outputs": []
    }
  ]
}