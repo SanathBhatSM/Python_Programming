{
  "nbformat": 4,
  "nbformat_minor": 0,
  "metadata": {
    "kernelspec": {
      "display_name": "Python 3",
      "language": "python",
      "name": "python3"
    },
    "language_info": {
      "codemirror_mode": {
        "name": "ipython",
        "version": 3
      },
      "file_extension": ".py",
      "mimetype": "text/x-python",
      "name": "python",
      "nbconvert_exporter": "python",
      "pygments_lexer": "ipython3",
      "version": "3.7.3"
    },
    "colab": {
      "provenance": []
    }
  },
  "cells": [
    {
      "cell_type": "markdown",
      "metadata": {
        "id": "Z8zEnMetcY29"
      },
      "source": [
        "Given a string of odd length greater 7, return a string made of the middle three chars of a given String\n",
        "st1=programpy\n",
        "st2=gra"
      ]
    },
    {
      "cell_type": "code",
      "metadata": {
        "id": "Wa7cLz8hcY3A",
        "outputId": "139e0b1b-c56b-45f7-ec3d-1758f84d3587",
        "colab": {
          "base_uri": "https://localhost:8080/",
          "height": 51
        }
      },
      "source": [
        "st1=input(\"enter the string of oddlength grater than 7 :\")\n",
        "l=len(st1)\n",
        "midindex=l//2\n",
        "st2=st1[midindex-2:midindex+3]   #mi-1,mi, mi+1\n",
        "print(st2)"
      ],
      "execution_count": null,
      "outputs": [
        {
          "output_type": "stream",
          "text": [
            "enter the string of oddlength grater than 7 :program\n",
            "rogra\n"
          ],
          "name": "stdout"
        }
      ]
    },
    {
      "cell_type": "markdown",
      "metadata": {
        "id": "wXrhlr_xcY3J"
      },
      "source": [
        "Given 2 strings, s1 and s2, create a new string by appending s2 in the middle of s1"
      ]
    },
    {
      "cell_type": "code",
      "metadata": {
        "id": "gp15o9PrcY3K",
        "outputId": "5b74167b-9233-4dea-e018-e84880108ad0",
        "colab": {
          "base_uri": "https://localhost:8080/",
          "height": 34
        }
      },
      "source": [
        "s2=\"python\"\n",
        "s1=\"program\"  #pytprogramhon\n",
        "l=len(s1)\n",
        "midind=l//2\n",
        "s3=s1[:midind]  + s2 + s1[midind:]\n",
        "print(s3)\n"
      ],
      "execution_count": null,
      "outputs": [
        {
          "output_type": "stream",
          "text": [
            "propythongram\n"
          ],
          "name": "stdout"
        }
      ]
    },
    {
      "cell_type": "markdown",
      "metadata": {
        "id": "V4iKPgBlcY3R"
      },
      "source": [
        "Python program to chk whether the string is palindrome or not.\n"
      ]
    },
    {
      "cell_type": "code",
      "metadata": {
        "id": "8GQOBMJBcY3S",
        "outputId": "40855ae8-9cc2-4061-a56b-413474bd04b1",
        "colab": {
          "base_uri": "https://localhost:8080/",
          "height": 51
        }
      },
      "source": [
        "st1=\"1234321\"\n",
        "l=len(st1)\n",
        "st2=st1[-1::-1]\n",
        "print(st2)\n",
        "if(st1==st2):\n",
        "    print(\"string is palindrome\")\n",
        "else:\n",
        "    print(\"string is not palindrome\")\n"
      ],
      "execution_count": null,
      "outputs": [
        {
          "output_type": "stream",
          "text": [
            "1234321\n",
            "string is palindrome\n"
          ],
          "name": "stdout"
        }
      ]
    },
    {
      "cell_type": "markdown",
      "metadata": {
        "id": "pW6k9XSNcY3Y"
      },
      "source": [
        "Given 2 strings, s1, and s2 return a new string made of the first, middle and last char each of input string\n",
        "s1=\"python\n",
        "s2=\"program\n",
        "newst=\"pptgnm"
      ]
    },
    {
      "cell_type": "code",
      "metadata": {
        "id": "1T3Z-zcjcY3a",
        "outputId": "4852519b-a8b4-4caf-c941-42076961d65d"
      },
      "source": [
        "st1=\"program\"\n",
        "st2=\"language\"\n",
        "mid1=len(st1)//2\n",
        "mid2=len(st2)//2\n",
        "st3=st1[0]+st2[0]+st1[mid1]+st2[mid2]+st1[-1]+st2[-1]\n",
        "print(st3)"
      ],
      "execution_count": null,
      "outputs": [
        {
          "output_type": "stream",
          "text": [
            "plgume\n"
          ],
          "name": "stdout"
        }
      ]
    },
    {
      "cell_type": "markdown",
      "metadata": {
        "id": "YA0Tnvz7cY3j"
      },
      "source": [
        "Count all lower case, upper case, digits, and special symbols from a given string"
      ]
    },
    {
      "cell_type": "code",
      "metadata": {
        "id": "MY6rY6NbcY3l",
        "outputId": "bd95689c-7f62-4a20-d009-b8b05f4fc07e",
        "colab": {
          "base_uri": "https://localhost:8080/",
          "height": 34
        }
      },
      "source": [
        "st1=\"Program_Python123@Lang\"\n",
        "cntl=0\n",
        "cntu=0\n",
        "cntd=0\n",
        "cnts=0\n",
        "for ch in st1:\n",
        "    if ch.islower():\n",
        "        cntl+=1\n",
        "    elif ch.isupper():\n",
        "        cntu+=1\n",
        "    elif ch.isdigit():\n",
        "        cntd+=1\n",
        "    else:\n",
        "        cnts+=1\n",
        "print(cntl,cntu,cntd,cnts)\n",
        ""
      ],
      "execution_count": null,
      "outputs": [
        {
          "output_type": "stream",
          "text": [
            "14 3 3 2\n"
          ],
          "name": "stdout"
        }
      ]
    },
    {
      "cell_type": "markdown",
      "metadata": {
        "id": "8fsjG16VkVxX"
      },
      "source": [
        "find all occurences of \"usa\" in string ignoring the cases\n"
      ]
    },
    {
      "cell_type": "code",
      "metadata": {
        "id": "q6ZgNLjycY31",
        "outputId": "59eb175a-0ed6-4dbf-86e3-272ce088a60d",
        "colab": {
          "base_uri": "https://localhost:8080/",
          "height": 51
        }
      },
      "source": [
        "st=input(\"enter a string\")\n",
        "if \"USA\"or\"USa\"or\"Usa\"or\"usa\"or\"UsA\"or\"uSa\"or\"uSA\"or\"usA\" in st:\n",
        "  print(\"USA is present in string\")\n",
        "else:\n",
        "  print(\"USA is not present in string\")\n"
      ],
      "execution_count": null,
      "outputs": [
        {
          "output_type": "stream",
          "text": [
            "enter a string united states is called as usa\n",
            "USA is present in string\n"
          ],
          "name": "stdout"
        }
      ]
    },
    {
      "cell_type": "markdown",
      "metadata": {
        "id": "hgTnbhBHcY36"
      },
      "source": [
        "Remove special symbols/Punctuation from a given string"
      ]
    },
    {
      "cell_type": "code",
      "metadata": {
        "id": "A2Nx_b-0cY37",
        "outputId": "2a362125-63ae-4caa-d502-dbb608113841"
      },
      "source": [
        "string=\"pyhton@2020, pyhton#2.0\"\n",
        "punctuations = \"\"\"!()-[]{};:'\"\\,<>./?@#$%^&*_~\"\"\"\n",
        "for ch in string:\n",
        "        if ch in punctuations:\n",
        "            string = string.replace(ch, \"\")\n",
        "print(string)"
      ],
      "execution_count": null,
      "outputs": [
        {
          "output_type": "stream",
          "text": [
            "pyhton2020 pyhton20\n"
          ],
          "name": "stdout"
        }
      ]
    },
    {
      "cell_type": "markdown",
      "metadata": {
        "id": "5tXJwHpBcY4D"
      },
      "source": [
        "From given string replace each punctuation with #"
      ]
    },
    {
      "cell_type": "code",
      "metadata": {
        "id": "MYmnLQsWcY4F",
        "outputId": "d62509b4-6b7d-490e-c5e0-bec58d8b72be",
        "colab": {
          "base_uri": "https://localhost:8080/",
          "height": 51
        }
      },
      "source": [
        "string=input(\"enter the string\")\n",
        "punctuations = \"\"\"!()-[]{};:'\"\\,<>./?@#$%^&*_~\"\"\"\n",
        "for ch in string:\n",
        "        if ch in punctuations:\n",
        "            string = string.replace(ch, \"#\")\n",
        "print(string)"
      ],
      "execution_count": null,
      "outputs": [
        {
          "output_type": "stream",
          "text": [
            "enter the string!@#13!@#$%6$%nggifadjg\n",
            "###13#####6##nggifadjg\n"
          ],
          "name": "stdout"
        }
      ]
    },
    {
      "cell_type": "code",
      "metadata": {
        "id": "fGkrsgg9cY4J"
      },
      "source": [],
      "execution_count": null,
      "outputs": []
    }
  ]
}