{
  "nbformat": 4,
  "nbformat_minor": 0,
  "metadata": {
    "kernelspec": {
      "display_name": "Python 3",
      "language": "python",
      "name": "python3"
    },
    "language_info": {
      "codemirror_mode": {
        "name": "ipython",
        "version": 3
      },
      "file_extension": ".py",
      "mimetype": "text/x-python",
      "name": "python",
      "nbconvert_exporter": "python",
      "pygments_lexer": "ipython3",
      "version": "3.7.3"
    },
    "colab": {
      "provenance": []
    }
  },
  "cells": [
    {
      "cell_type": "markdown",
      "metadata": {
        "id": "S92rspq0goQP"
      },
      "source": [
        "Write a Python program to print the next 15 leap years starting from a given year (read this as input). print the leap years in the same line\n",
        "\n",
        "example:\n",
        "1) input: 2002\n",
        "    output: 2004, 2008, 2012, 2016, 2020, 2024, 2028, 2032, 2036, 2040, 2044, 2048, 2052, 2056, 2060"
      ]
    },
    {
      "cell_type": "code",
      "metadata": {
        "id": "ZDKP97wBgoQQ",
        "colab": {
          "base_uri": "https://localhost:8080/",
          "height": 289
        },
        "outputId": "c9c124c0-42c9-46db-cc1e-9b2126fc0dcb"
      },
      "source": [
        "yr=int(input(\"enter a year\"))\n",
        "y=yr\n",
        "flag=0\n",
        "while(True):\n",
        "  y=y+1\n",
        "  if y%4==0:\n",
        "    if y%100==0:\n",
        "      if y%400==0:\n",
        "        flag=flag+1\n",
        "        print(y)\n",
        "      else:\n",
        "        continue\n",
        "    else:\n",
        "      flag=flag+1\n",
        "      print(y)\n",
        "  else:\n",
        "      continue\n",
        "  if flag==15:\n",
        "    break\n"
      ],
      "execution_count": null,
      "outputs": [
        {
          "output_type": "stream",
          "text": [
            "enter a year2002\n",
            "2004\n",
            "2008\n",
            "2012\n",
            "2016\n",
            "2020\n",
            "2024\n",
            "2028\n",
            "2032\n",
            "2036\n",
            "2040\n",
            "2044\n",
            "2048\n",
            "2052\n",
            "2056\n",
            "2060\n"
          ],
          "name": "stdout"
        }
      ]
    },
    {
      "cell_type": "markdown",
      "metadata": {
        "id": "6rysSjvsgoQW"
      },
      "source": [
        "Write a program to reverese the digits in an integer\n",
        "example: Input:12345\n",
        "         Output: 54321"
      ]
    },
    {
      "cell_type": "code",
      "metadata": {
        "id": "Dk57xwfLgoQY",
        "colab": {
          "base_uri": "https://localhost:8080/",
          "height": 68
        },
        "outputId": "3a28596c-1a4b-4db8-b34a-efe6bc78253c"
      },
      "source": [
        "a=int(input(\"enter an integer:\\n\"))\n",
        "rev=0\n",
        "while(a>0):\n",
        "    n=a%10\n",
        "    rev=rev*10+n\n",
        "    a=a//10\n",
        "print(rev)\n"
      ],
      "execution_count": null,
      "outputs": [
        {
          "output_type": "stream",
          "text": [
            "enter an integer:\n",
            "123456\n",
            "654321\n"
          ],
          "name": "stdout"
        }
      ]
    },
    {
      "cell_type": "markdown",
      "metadata": {
        "id": "Xy0g3PIfgoQh"
      },
      "source": [
        "Write a python function to check whether three given numbers can form the sides of a triangle.\n",
        "Hint\n",
        ": Three numbers can be the sides of a triangle if none of the numbers are greater than or equal to the sum of the other two numbers."
      ]
    },
    {
      "cell_type": "code",
      "metadata": {
        "id": "Cc1F2u_agoQi",
        "colab": {
          "base_uri": "https://localhost:8080/",
          "height": 85
        },
        "outputId": "10f9deaa-cb12-4cfc-8bff-5bfd0612b6de"
      },
      "source": [
        "s1=int(input(\"enter lengths of 3 sides of a triangle:\"))\n",
        "s2=int(input(\":\"))\n",
        "s3=int(input(\":\"))\n",
        "if(s1+s2<=s3 or s1+s3<=s2 or s2+s3<=s1):\n",
        "  print(\"not sides of triangle\")\n",
        "else:\n",
        "  print(\"sides of triangle\")\n"
      ],
      "execution_count": null,
      "outputs": [
        {
          "output_type": "stream",
          "text": [
            "enter lengths of 3 sides of a triangle:12\n",
            ":24\n",
            ":23\n",
            "sides of triangle\n"
          ],
          "name": "stdout"
        }
      ]
    },
    {
      "cell_type": "markdown",
      "metadata": {
        "id": "r5TGP0LegoQm"
      },
      "source": [
        "The program provided in the starter code tab is written to display “*” as per the expected output given below. But the code is having logical errors, debug the program using Eclipse Debugger and correct it.\n",
        "\n",
        "\n",
        "Expected Output:\n",
        "*****\n",
        "****\n",
        "***\n",
        "**\n",
        "*"
      ]
    },
    {
      "cell_type": "code",
      "metadata": {
        "id": "NsLOfJshgoQn",
        "colab": {
          "base_uri": "https://localhost:8080/",
          "height": 102
        },
        "outputId": "1472d861-a07a-4dac-d526-ebf9a73e2861"
      },
      "source": [
        "#debug the below code\n",
        "counter1=0\n",
        "counter2=5\n",
        "while(counter1 < 5):\n",
        "  counter2=5\n",
        "  star=\"\"\n",
        "  while(counter2>counter1):\n",
        "     star=star+ \"*\"\n",
        "     counter2-=1\n",
        "  print(star)\n",
        "  counter1+=1"
      ],
      "execution_count": null,
      "outputs": [
        {
          "output_type": "stream",
          "text": [
            "*****\n",
            "****\n",
            "***\n",
            "**\n",
            "*\n"
          ],
          "name": "stdout"
        }
      ]
    },
    {
      "cell_type": "markdown",
      "metadata": {
        "id": "r4Fx9sOlgoQt"
      },
      "source": [
        "Write a python program to solve a classic ancient Chinese puzzle.\n",
        "\n",
        "We input number of heads and number of legs among the chickens and rabbits in a farm. Program shd output number of rabbits and chickens.\n",
        "\n",
        "Sample Input\t                   Expected Output\n",
        "heads-150 legs-400\t                   100 50\n",
        "heads-3 legs-11                  \tNo solution\n",
        "heads-3 legs-12\t                         0 3\n",
        "heads-5 legs-10                        \t5 0"
      ]
    },
    {
      "cell_type": "code",
      "metadata": {
        "id": "F8GUlPIIgoQu",
        "colab": {
          "base_uri": "https://localhost:8080/",
          "height": 68
        },
        "outputId": "75bb3334-cf37-43da-cad0-9fe8f9a8e573"
      },
      "source": [
        "head=int(input(\"enter the number of head\"))\n",
        "legs=int(input(\"enter the number of legs\"))\n",
        "\n",
        "for i in range(head+1):\n",
        "  j=head-i\n",
        "  if((j*4)+(i*2)==legs):\n",
        "    print(i,j)\n",
        "    break\n",
        "else:\n",
        "  print(\"no solution\")\n",
        "\n",
        ""
      ],
      "execution_count": null,
      "outputs": [
        {
          "output_type": "stream",
          "text": [
            "enter the number of head150\n",
            "enter the number of legs400\n",
            "100 50\n"
          ],
          "name": "stdout"
        }
      ]
    },
    {
      "cell_type": "markdown",
      "metadata": {
        "id": "PcuB24ergoQy"
      },
      "source": [
        "Write a python program which finds the maximum number from num1 to num2 (num2 inclusive) based on the following rules.\n",
        "\n",
        "Always num1 should be less than num2\n",
        "Consider each number from num1 to num2 (num2 inclusive). Display the number , if the below conditions are satisfied\n",
        "i) Sum of the digits of the number is a multiple of 3\n",
        "ii) Number has only two digits\n",
        "iii) Number is a multiple of 5\n",
        "iv) Display the maximum element from the list\n",
        "v) In case of any invalid data or if the list is empty, display -1."
      ]
    },
    {
      "cell_type": "code",
      "metadata": {
        "id": "-009YYDegoQz",
        "colab": {
          "base_uri": "https://localhost:8080/",
          "height": 85
        },
        "outputId": "915e678c-77b2-4457-cc03-ea0f0d38dccd"
      },
      "source": [
        "num1=int(input(\"enter two numbers , 1st number should be less than second number\\n: \"))\n",
        "num2=int(input(\": \"))\n",
        "if(num2<num1):\n",
        "  print(-1)\n",
        "for i in range(num2,num1-1,-1):\n",
        "  sum=0\n",
        "  for j in str(i):\n",
        "    sum=sum+int(i)\n",
        "  if(sum%3==0 and len(str(i))==2 and i%5==0):\n",
        "    print(i)\n",
        "    break\n",
        "else:\n",
        "  print(-1)\n"
      ],
      "execution_count": null,
      "outputs": [
        {
          "output_type": "stream",
          "text": [
            "enter two numbers , 1st number should be less than second number\n",
            ": 10\n",
            ": 20\n",
            "15\n"
          ],
          "name": "stdout"
        }
      ]
    },
    {
      "cell_type": "markdown",
      "metadata": {
        "id": "lRtxirs9goQ4"
      },
      "source": [
        "Write a program for swapping of two numbers without using third variable"
      ]
    },
    {
      "cell_type": "code",
      "metadata": {
        "id": "bCK6h5s0goQ5",
        "colab": {
          "base_uri": "https://localhost:8080/",
          "height": 85
        },
        "outputId": "fa98aab4-2dbc-4016-8269-e02c150519d8"
      },
      "source": [
        "a=int(input(\"enter value of a \"))\n",
        "b=int(input(\"enter value of b \"))\n",
        "a=a+b\n",
        "b=a-b\n",
        "a=a-b\n",
        "print(\"a=\",a,\"\\nb=\",b)"
      ],
      "execution_count": null,
      "outputs": [
        {
          "output_type": "stream",
          "text": [
            "enter value of a 456\n",
            "enter value of b 123\n",
            "a= 123 \n",
            "b= 456\n"
          ],
          "name": "stdout"
        }
      ]
    },
    {
      "cell_type": "markdown",
      "metadata": {
        "id": "miB79WTEgoRA"
      },
      "source": [
        "Write a python program to print all prime numbers in given range. ex. (1,100)"
      ]
    },
    {
      "cell_type": "code",
      "metadata": {
        "id": "smraflbygoRB",
        "colab": {
          "base_uri": "https://localhost:8080/",
          "height": 153
        },
        "outputId": "d22f3742-5ce1-4710-9d6b-6506e577c286"
      },
      "source": [
        "a=int(input(\"Enter lower range: \"))\n",
        "b=int(input(\"Enter upper range: \"))\n",
        "for i in range(a,b+1):\n",
        "  if(i!=0 and i!=1):\n",
        "    for j in range(2,i):\n",
        "        if(i % j==0):\n",
        "            break\n",
        "    else:\n",
        "        print(i)"
      ],
      "execution_count": null,
      "outputs": [
        {
          "output_type": "stream",
          "text": [
            "Enter lower range: 0\n",
            "Enter upper range: 13\n",
            "2\n",
            "3\n",
            "5\n",
            "7\n",
            "11\n",
            "13\n"
          ],
          "name": "stdout"
        }
      ]
    },
    {
      "cell_type": "markdown",
      "metadata": {
        "id": "L1-PsNqygoRF"
      },
      "source": [
        "Write a python program to perform the following\n",
        "1) Read N and n as input (N shd be greater than 20, n shd be less than N)\n",
        "2) find sum of first N natural numbers: sumN\n",
        "3) find the sum of all even numbers :sumE\n",
        "4) find the sum of all odd numbers:sumO\n",
        "4) find sum of all numbers divisible by n:sumD\n",
        "5) display all the sums"
      ]
    },
    {
      "cell_type": "code",
      "metadata": {
        "id": "WY_tu3LagoRG",
        "colab": {
          "base_uri": "https://localhost:8080/",
          "height": 153
        },
        "outputId": "d5b82282-d69b-4b16-934f-818aa9a6362c"
      },
      "source": [
        "print(\"Enter the value of N and n  input (N should be greater than 20, n should be less than N)\\n \")\n",
        "N=int(input(\"enter the value of N: \"))\n",
        "n=int(input(\"enter the value of n: \"))\n",
        "sumN=0\n",
        "sumO=0\n",
        "sumE=0\n",
        "sumD=0\n",
        "for i in range(N+1):\n",
        "  sumN=sumN+i\n",
        "  if(i%2==0):\n",
        "    sumE=sumE+i\n",
        "  else:\n",
        "    sumO=sumO+i\n",
        "  if(i%n==0):\n",
        "    sumD=sumD+i\n",
        "\n",
        "print(\"sumN=\",sumN,\"\\nsumE=\",sumE,\"\\nsumO=\",sumO,\"\\nsumD=\",sumD)"
      ],
      "execution_count": null,
      "outputs": [
        {
          "output_type": "stream",
          "text": [
            "Enter the value of N and n  input (N should be greater than 20, n should be less than N)\n",
            " \n",
            "enter the value of N: 150\n",
            "enter the value of n: 3\n",
            "sumN= 11325 \n",
            "sumE= 5700 \n",
            "sumO= 5625 \n",
            "sumD= 3825\n"
          ],
          "name": "stdout"
        }
      ]
    },
    {
      "cell_type": "markdown",
      "metadata": {
        "id": "Vv0p7tAngoRK"
      },
      "source": [
        "Write a python program to print all prime numbers in given range. ex. (1,100)"
      ]
    },
    {
      "cell_type": "code",
      "metadata": {
        "id": "T1bItGs_goRK",
        "colab": {
          "base_uri": "https://localhost:8080/",
          "height": 119
        },
        "outputId": "17042016-b92d-48e9-84c5-994a5b9e4100"
      },
      "source": [
        "a=int(input(\"Enter lower range: \"))\n",
        "b=int(input(\"Enter upper range: \"))\n",
        "for i in range(a,b+1):\n",
        "  if(i!=0 and i!=1):\n",
        "    for j in range(2,i):\n",
        "        if(i % j==0):\n",
        "            break\n",
        "    else:\n",
        "        print(i)"
      ],
      "execution_count": null,
      "outputs": [
        {
          "output_type": "stream",
          "text": [
            "Enter lower range: 1\n",
            "Enter upper range: 10\n",
            "2\n",
            "3\n",
            "5\n",
            "7\n"
          ],
          "name": "stdout"
        }
      ]
    },
    {
      "cell_type": "markdown",
      "metadata": {
        "id": "VM5y91GNgoRR"
      },
      "source": [
        "python program to print the following pattern by accepting number of lines as input\n",
        "example: 3\n",
        "*\n",
        "* *\n",
        "* * *\n",
        "example: 4\n",
        "*\n",
        "* *\n",
        "* * *\n",
        "* * * *\n",
        ""
      ]
    },
    {
      "cell_type": "code",
      "metadata": {
        "id": "jxYmb697goRT",
        "colab": {
          "base_uri": "https://localhost:8080/",
          "height": 136
        },
        "outputId": "500cb07d-ad0e-4251-8af4-907821b22618"
      },
      "source": [
        "n=int(input(\"enter the number of lines :\"))\n",
        "for i in range(n+1):\n",
        "  for j in range(i):\n",
        "    print(\"*\",end=\" \")\n",
        "  print(\"\")\n"
      ],
      "execution_count": null,
      "outputs": [
        {
          "output_type": "stream",
          "text": [
            "enter the number of lines :5\n",
            "\n",
            "* \n",
            "* * \n",
            "* * * \n",
            "* * * * \n",
            "* * * * * \n"
          ],
          "name": "stdout"
        }
      ]
    },
    {
      "cell_type": "markdown",
      "metadata": {
        "id": "IZP6SRpNgoRa"
      },
      "source": [
        "python program to print the different pattern by accepting\n",
        "a) character to be printed in the pattern\n",
        "b) Pattern format (1,2,3)\n",
        "c) number of lines as input\n",
        "\n",
        "example:\n",
        "1) ch=*, pattern=1 lines=3\n",
        "*\n",
        "* *\n",
        "* * *\n",
        "2) ch=*, pattern=2 lines=3\n",
        "* * *\n",
        "* *\n",
        "*\n",
        "3) ch=*, pattern=3 lines=3\n",
        "* * *\n",
        "  * *\n",
        "    *\n",
        "4) ch=$, pattern=3 lines=3\n",
        "$ $ $\n",
        "  $ $\n",
        "    $\n"
      ]
    },
    {
      "cell_type": "code",
      "metadata": {
        "id": "x3yaUL56O8Rz",
        "colab": {
          "base_uri": "https://localhost:8080/",
          "height": 153
        },
        "outputId": "a12964e5-18e4-40de-8549-ee6361ad3443"
      },
      "source": [
        "ch=(input(\"enter the charecter to be printed  :\"))\n",
        "n=int(input(\"enter number of lines  :\"))\n",
        "p=int(input(\"enter the pattern(1,2 or 3) :\"))\n",
        "if(p==1):\n",
        "  for i in range(n+1):\n",
        "    for j in range(i):\n",
        "      print(ch,end=\" \")\n",
        "    print(\"\")\n",
        "if(p==2):\n",
        "  for i in range(n,0,-1):\n",
        "    for j in range(i):\n",
        "       print(ch,end=\" \")\n",
        "    print(\"\")\n",
        "if(p==3):\n",
        "   for i in range(n,0,-1):\n",
        "     for j in range(n-i):\n",
        "         print(\" \",end=\" \")\n",
        "     for k in range(i):\n",
        "       print(ch,end=\" \")\n",
        "     print(\"\")\n",
        "\n",
        "\n",
        "\n",
        "\n"
      ],
      "execution_count": null,
      "outputs": [
        {
          "output_type": "stream",
          "text": [
            "enter the charecter to be printed  :#\n",
            "enter number of lines  :5\n",
            "enter the pattern(1,2 or 3) :3\n",
            "# # # # # \n",
            "  # # # # \n",
            "    # # # \n",
            "      # # \n",
            "        # \n"
          ],
          "name": "stdout"
        }
      ]
    },
    {
      "cell_type": "markdown",
      "metadata": {
        "id": "uI9FhdtogoRa"
      },
      "source": [
        "Write a python program to find the sum of x+x2/2+x3/3+…..+xn/n by accepting x and n as input"
      ]
    },
    {
      "cell_type": "code",
      "metadata": {
        "id": "HUdV8lW_goRb",
        "colab": {
          "base_uri": "https://localhost:8080/",
          "height": 68
        },
        "outputId": "063d4924-3710-4b5d-9c16-990aef6ee650"
      },
      "source": [
        "n=int(input(\"enter the value of n :\"))\n",
        "x=float(input(\"enter the value of x :\"))\n",
        "sum=0\n",
        "i=1\n",
        "while(i<=n):\n",
        "  sum=sum+(x**i)/i\n",
        "  i+=1\n",
        "print(\"sum=\",sum)\n"
      ],
      "execution_count": null,
      "outputs": [
        {
          "output_type": "stream",
          "text": [
            "enter the value of n :2\n",
            "enter the value of x :3\n",
            "sum= 7.5\n"
          ],
          "name": "stdout"
        }
      ]
    },
    {
      "cell_type": "markdown",
      "metadata": {
        "id": "ul_EeyPkgoRg"
      },
      "source": [
        "Write a python program to calculate the sum of digits of a number."
      ]
    },
    {
      "cell_type": "code",
      "metadata": {
        "id": "RoJeUA_PgoRh",
        "colab": {
          "base_uri": "https://localhost:8080/",
          "height": 51
        },
        "outputId": "af5f7be8-5575-4c21-9809-aaabb7515394"
      },
      "source": [
        "a=b=int(input(\"enter a positive integer  :\"))\n",
        "sum=0\n",
        "l=len(str(a))\n",
        "while(a>0):\n",
        "  sum=sum+a%10\n",
        "  a=a//10\n",
        "print(\"sum of all digits of\",b,\"is\",sum)"
      ],
      "execution_count": null,
      "outputs": [
        {
          "output_type": "stream",
          "text": [
            "enter a positive integer  :12345\n",
            "sum of all digits of 12345 is 15\n"
          ],
          "name": "stdout"
        }
      ]
    },
    {
      "cell_type": "markdown",
      "metadata": {
        "id": "cHWygXVDgoRn"
      },
      "source": [
        "Write a python program to print the sum of the ASCII value of all characters of the input string."
      ]
    },
    {
      "cell_type": "code",
      "metadata": {
        "id": "ziKTG-LXgoRn",
        "colab": {
          "base_uri": "https://localhost:8080/",
          "height": 136
        },
        "outputId": "58689ea7-a0da-4fd6-ebde-60a4afdd6341"
      },
      "source": [
        "s=input(\"enter a string  :\")\n",
        "for i in s:\n",
        "  print(\"ASCII value of\",i,\"is\",ord(i))"
      ],
      "execution_count": null,
      "outputs": [
        {
          "output_type": "stream",
          "text": [
            "enter a string  :Srisha\n",
            "ASCII value of S is 83\n",
            "ASCII value of r is 114\n",
            "ASCII value of i is 105\n",
            "ASCII value of s is 115\n",
            "ASCII value of h is 104\n",
            "ASCII value of a is 97\n"
          ],
          "name": "stdout"
        }
      ]
    },
    {
      "cell_type": "markdown",
      "metadata": {
        "id": "TD50tYaVgoRr"
      },
      "source": [
        "Write a python program to find HCF and LCM of two numbers.\n",
        " example:\n",
        " 1) num1= 14, num2=56   \n",
        " output: HCF 14, LCM 56"
      ]
    },
    {
      "cell_type": "code",
      "metadata": {
        "id": "jM6aEK0ygoRs",
        "colab": {
          "base_uri": "https://localhost:8080/",
          "height": 85
        },
        "outputId": "938fac72-40f2-4306-9e63-110cd9a0e30a"
      },
      "source": [
        "a=int(input(\"Enter 2 numbers: \"))\n",
        "b=int(input(\":\"))\n",
        "if(a<b):\n",
        "  smaller=a\n",
        "else:\n",
        "  smaller=b\n",
        "for i in range(1,smaller+1):\n",
        "  if(a%i==0 and b%i==0):\n",
        "    hcf=i\n",
        "print(\"H.C.F=\",hcf,\"\\nL.C.M=\",int(a*b/hcf))\n"
      ],
      "execution_count": null,
      "outputs": [
        {
          "output_type": "stream",
          "text": [
            "Enter 2 numbers: 14\n",
            ":14\n",
            "H.C.F= 14 \n",
            "L.C.M= 14\n"
          ],
          "name": "stdout"
        }
      ]
    },
    {
      "cell_type": "markdown",
      "metadata": {
        "id": "fCYuICHggoRy"
      },
      "source": [
        "An organization has decided to provide salary hike to its employees based on their job level. Employees can be in job levels 3, 4 or 5. Hike percentage based on job levels are given below:\n",
        "Job level         Hike Percentage(applicable on current salary)\n",
        "3                      15\n",
        "4                       7\n",
        "5                       5\n",
        "In case of invalid job level, consider hike percentage to be 0.\n",
        "Given the current salary and job level, write a python program to find and display the new salary of an employee."
      ]
    },
    {
      "cell_type": "code",
      "metadata": {
        "id": "SsXYv9yigoRz",
        "colab": {
          "base_uri": "https://localhost:8080/",
          "height": 85
        },
        "outputId": "bbb66d53-e593-4c69-80d3-3387d0086d8b"
      },
      "source": [
        "cs=int(input(\"enter your current salary :\"))\n",
        "jl=int(input(\"enter your job level :\"))\n",
        "if(jl==3):\n",
        "  ns=cs+(15/100)*cs\n",
        "  print(\"your new salary is \",ns)\n",
        "elif(jl==4):\n",
        "  ns=cs+(7/100)*cs\n",
        "  print(\"your new salary is \",ns)\n",
        "elif(jl==5):\n",
        "  ns=cs+(5/100)*cs\n",
        "  print(\"your new salary is \",ns)\n",
        "else:\n",
        "  ns=cs\n",
        "  print(\"invalid job level\\nnew salary is \",ns)\n",
        "\n",
        "print(\"your new salary is \",ns)"
      ],
      "execution_count": null,
      "outputs": [
        {
          "output_type": "stream",
          "text": [
            "enter your current salary :35000\n",
            "enter your job level :3\n",
            "your new salary is  40250.0\n",
            "your new salary is  40250.0\n"
          ],
          "name": "stdout"
        }
      ]
    }
  ]
}