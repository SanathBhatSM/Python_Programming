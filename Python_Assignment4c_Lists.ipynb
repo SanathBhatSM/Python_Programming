{
  "nbformat": 4,
  "nbformat_minor": 0,
  "metadata": {
    "kernelspec": {
      "display_name": "Python 3",
      "language": "python",
      "name": "python3"
    },
    "language_info": {
      "codemirror_mode": {
        "name": "ipython",
        "version": 3
      },
      "file_extension": ".py",
      "mimetype": "text/x-python",
      "name": "python",
      "nbconvert_exporter": "python",
      "pygments_lexer": "ipython3",
      "version": "3.7.3"
    },
    "colab": {
      "provenance": []
    }
  },
  "cells": [
    {
      "cell_type": "markdown",
      "metadata": {
        "id": "BBGI2dM4deRR"
      },
      "source": [
        "\n",
        "1. Python program to interchange first and last elements in a list"
      ]
    },
    {
      "cell_type": "code",
      "metadata": {
        "id": "WBD1fzYBdeRU",
        "outputId": "f1136398-33be-473a-b685-6bcf3aa66bc8",
        "colab": {
          "base_uri": "https://localhost:8080/",
          "height": 34
        }
      },
      "source": [
        "l=[1,2,3,4,5,6]\n",
        "l[0],l[-1]=l[-1],l[0]\n",
        "print(l)"
      ],
      "execution_count": null,
      "outputs": [
        {
          "output_type": "stream",
          "text": [
            "[6, 2, 3, 4, 5, 1]\n"
          ],
          "name": "stdout"
        }
      ]
    },
    {
      "cell_type": "markdown",
      "metadata": {
        "id": "Ln5rfFKalz9b"
      },
      "source": [
        "2. Python program to swap two elements in a list"
      ]
    },
    {
      "cell_type": "code",
      "metadata": {
        "id": "_IMCkdW3deRe",
        "outputId": "341bf270-5cc1-4ac1-93db-19f7ed3c5130",
        "colab": {
          "base_uri": "https://localhost:8080/",
          "height": 34
        }
      },
      "source": [
        "l=[1,2,3,4,5,6,7,8,9]\n",
        "a1=2\n",
        "a2=5\n",
        "l[a1],l[a2]=l[a2],l[a1]\n",
        "print(l)"
      ],
      "execution_count": null,
      "outputs": [
        {
          "output_type": "stream",
          "text": [
            "[1, 2, 6, 4, 5, 3, 7, 8, 9]\n"
          ],
          "name": "stdout"
        }
      ]
    },
    {
      "cell_type": "markdown",
      "metadata": {
        "id": "NKtTqverdeRm"
      },
      "source": [
        "3. Python program to remove Nth occurrence of the given word\n",
        "list - [\"can\", \"you\",  \"can\", \"a\", \"can\" \"?\"]\n",
        "       word = can, N = 1\n",
        "Output: list - [\"you\",  \"can\", \"a\", \"can\" \"?\"]"
      ]
    },
    {
      "cell_type": "code",
      "metadata": {
        "id": "dunmciZudeRn",
        "outputId": "6b2b2190-5698-4e92-fdac-f83373d084be",
        "colab": {
          "base_uri": "https://localhost:8080/",
          "height": 34
        }
      },
      "source": [
        "list1=[\"can\", \"you\",  \"can\", \"a\", \"can\", \"?\"]\n",
        "word=\"can\"\n",
        "N=2\n",
        "\n",
        "count=0\n",
        "for i in range(len(list1)):\n",
        "\n",
        "    if(list1[i]==word):\n",
        "        count+=1\n",
        "    if(count==N):\n",
        "        list1.pop(i)\n",
        "        break\n",
        "print(list1)"
      ],
      "execution_count": null,
      "outputs": [
        {
          "output_type": "stream",
          "text": [
            "['can', 'you', 'a', 'can', '?']\n"
          ],
          "name": "stdout"
        }
      ]
    },
    {
      "cell_type": "markdown",
      "metadata": {
        "id": "pQJdJ2rDdeRu"
      },
      "source": [
        "4. Python  Ways to find length of list"
      ]
    },
    {
      "cell_type": "code",
      "metadata": {
        "id": "ZK680T62deRv",
        "outputId": "4add208c-a506-4382-c4ce-11a39b0e0d81",
        "colab": {
          "base_uri": "https://localhost:8080/",
          "height": 34
        }
      },
      "source": [
        "l=[1,2,3,4,5,6,7,8,9]\n",
        "print(len(l))"
      ],
      "execution_count": null,
      "outputs": [
        {
          "output_type": "stream",
          "text": [
            "9\n"
          ],
          "name": "stdout"
        }
      ]
    },
    {
      "cell_type": "markdown",
      "metadata": {
        "id": "R5ES5UVKdeR0"
      },
      "source": [
        "5. Python  Ways to check if element exists in list"
      ]
    },
    {
      "cell_type": "code",
      "metadata": {
        "id": "ZyVSwC1tdeR1",
        "outputId": "4cae0f42-6f26-4aad-bb8a-e4ba3249711f",
        "colab": {
          "base_uri": "https://localhost:8080/",
          "height": 34
        }
      },
      "source": [
        "l=[1,2,3,4,5,6,7,8,9]\n",
        "el=4\n",
        "if el in l:\n",
        "  print(\"element in string\")\n",
        "else:\n",
        "   print(\"element not in string\")\n"
      ],
      "execution_count": null,
      "outputs": [
        {
          "output_type": "stream",
          "text": [
            "element in string\n"
          ],
          "name": "stdout"
        }
      ]
    },
    {
      "cell_type": "markdown",
      "metadata": {
        "id": "NCqrZzBmdeR7"
      },
      "source": [
        "6. Different ways to clear a list in Python"
      ]
    },
    {
      "cell_type": "code",
      "metadata": {
        "id": "glZQ3EsozeiI",
        "outputId": "8bdb88b5-b34b-4a36-b8f9-d95cab5b39b7",
        "colab": {
          "base_uri": "https://localhost:8080/",
          "height": 51
        }
      },
      "source": [
        "l=[1,2,3,4,5,6,7,8,9]\n",
        "print(\"before clearing      :\",l)\n",
        "l.clear()\n",
        "print(\"after clearing       :\",l)"
      ],
      "execution_count": null,
      "outputs": [
        {
          "output_type": "stream",
          "text": [
            "before clearing      : [1, 2, 3, 4, 5, 6, 7, 8, 9]\n",
            "after clearing       : []\n"
          ],
          "name": "stdout"
        }
      ]
    },
    {
      "cell_type": "code",
      "metadata": {
        "id": "Dmx956DRdeR8",
        "outputId": "bfd1a476-f7b5-46a4-8766-54747432424f",
        "colab": {
          "base_uri": "https://localhost:8080/",
          "height": 51
        }
      },
      "source": [
        "l=[1,2,3,4,5,6,7,8,9]\n",
        "print(\"before clearing      :\",l)\n",
        "l=l*0\n",
        "print(\"after clearing       :\",l)"
      ],
      "execution_count": null,
      "outputs": [
        {
          "output_type": "stream",
          "text": [
            "before clearing      : [1, 2, 3, 4, 5, 6, 7, 8, 9]\n",
            "after clearing       : []\n"
          ],
          "name": "stdout"
        }
      ]
    },
    {
      "cell_type": "code",
      "metadata": {
        "id": "HWosUpzW17qA",
        "outputId": "d8f5cd13-69c3-4594-a3ce-3992d2b3f245",
        "colab": {
          "base_uri": "https://localhost:8080/",
          "height": 51
        }
      },
      "source": [
        "l=[1,2,3,4,5,6,7,8,9]\n",
        "print(\"before clearing      :\",l)\n",
        "l=[]\n",
        "print(\"after clearing       :\",l)"
      ],
      "execution_count": null,
      "outputs": [
        {
          "output_type": "stream",
          "text": [
            "before clearing      : [1, 2, 3, 4, 5, 6, 7, 8, 9]\n",
            "after clearing       : []\n"
          ],
          "name": "stdout"
        }
      ]
    },
    {
      "cell_type": "code",
      "metadata": {
        "id": "fJrxNlRZ2MQV",
        "outputId": "42452143-1685-42cb-8125-1b8e76e4d8f4",
        "colab": {
          "base_uri": "https://localhost:8080/",
          "height": 51
        }
      },
      "source": [
        "l=[1,2,3,4,5,6,7,8,9]\n",
        "print(\"before clearing      :\",l)\n",
        "del l[0:len(l)]\n",
        "print(\"after clearing       :\",l)"
      ],
      "execution_count": null,
      "outputs": [
        {
          "output_type": "stream",
          "text": [
            "before clearing      : [1, 2, 3, 4, 5, 6, 7, 8, 9]\n",
            "after clearing       : []\n"
          ],
          "name": "stdout"
        }
      ]
    },
    {
      "cell_type": "markdown",
      "metadata": {
        "id": "4CaPp9vMdeSF"
      },
      "source": [
        "7. Python Reversing a List"
      ]
    },
    {
      "cell_type": "code",
      "metadata": {
        "id": "bkR2clRKdeSG",
        "outputId": "e4e14d77-58a0-4b1e-d92c-da03ab7d72be",
        "colab": {
          "base_uri": "https://localhost:8080/",
          "height": 54
        }
      },
      "source": [
        "l=[1,2,3,4,5,6,7,8,9]\n",
        "print(\"before reversing     :\",l)\n",
        "l.reverse()\n",
        "print(\"after reversing       :\",l)"
      ],
      "execution_count": null,
      "outputs": [
        {
          "output_type": "stream",
          "text": [
            "before reversing     : [1, 2, 3, 4, 5, 6, 7, 8, 9]\n",
            "after reversing       : [9, 8, 7, 6, 5, 4, 3, 2, 1]\n"
          ],
          "name": "stdout"
        }
      ]
    },
    {
      "cell_type": "markdown",
      "metadata": {
        "id": "3IkbNdOKdeSN"
      },
      "source": [
        "8. Python  Cloning or Copying a list"
      ]
    },
    {
      "cell_type": "code",
      "metadata": {
        "id": "b3cRZm5_deSO",
        "outputId": "914ebded-3908-4c75-f9e0-a8bee506555b",
        "colab": {
          "base_uri": "https://localhost:8080/",
          "height": 54
        }
      },
      "source": [
        "l=[1,2,3,4,5,6,7,8,9]\n",
        "print(\"main string:\",l)\n",
        "l2=l.copy()\n",
        "print(\"copied string:\",l2)"
      ],
      "execution_count": null,
      "outputs": [
        {
          "output_type": "stream",
          "text": [
            "main string: [1, 2, 3, 4, 5, 6, 7, 8, 9]\n",
            "copied string: [1, 2, 3, 4, 5, 6, 7, 8, 9]\n"
          ],
          "name": "stdout"
        }
      ]
    },
    {
      "cell_type": "markdown",
      "metadata": {
        "id": "vdS7Hph9deST"
      },
      "source": [
        "\n",
        "9. Python | Count occurrences of an element in a list\n",
        "\n"
      ]
    },
    {
      "cell_type": "code",
      "metadata": {
        "id": "4pOSHGGTdeSU",
        "outputId": "a2a37566-17c9-4fe0-d29d-5443c19b35a2",
        "colab": {
          "base_uri": "https://localhost:8080/",
          "height": 35
        }
      },
      "source": [
        "l=[1,2,3,4,5,6,7,8,9,8,7,6,7,6]\n",
        "el=6\n",
        "n=l.count(el)\n",
        "print(n)"
      ],
      "execution_count": null,
      "outputs": [
        {
          "output_type": "stream",
          "text": [
            "3\n"
          ],
          "name": "stdout"
        }
      ]
    },
    {
      "cell_type": "markdown",
      "metadata": {
        "id": "SANZS5sideSZ"
      },
      "source": [
        "10. Python program to find sum of elements in list\n",
        "#can use sum\n",
        " or can use list traversal\n"
      ]
    },
    {
      "cell_type": "code",
      "metadata": {
        "id": "R-7O5eAW2kk0",
        "outputId": "46110d97-deb9-4aaf-d822-b8ade85aa537",
        "colab": {
          "base_uri": "https://localhost:8080/",
          "height": 35
        }
      },
      "source": [
        "l=[1,2,3,4,5,6,7,8,9,8,7,6,7,6]\n",
        "s=sum(l)\n",
        "print(s)"
      ],
      "execution_count": null,
      "outputs": [
        {
          "output_type": "stream",
          "text": [
            "79\n"
          ],
          "name": "stdout"
        }
      ]
    },
    {
      "cell_type": "markdown",
      "metadata": {
        "id": "tJMaaf61deSh"
      },
      "source": [
        "11. Python | Multiply all numbers in the list\n",
        "#can use list traversal\n"
      ]
    },
    {
      "cell_type": "code",
      "metadata": {
        "id": "isk3ef1edeSi",
        "outputId": "ff962848-7f27-465f-acb5-de3094bc098e",
        "colab": {
          "base_uri": "https://localhost:8080/",
          "height": 35
        }
      },
      "source": [
        "l=[1,2,3,4,5,6]\n",
        "mul=1\n",
        "for i in l:\n",
        "  mul=mul*i\n",
        "print(mul)"
      ],
      "execution_count": null,
      "outputs": [
        {
          "output_type": "stream",
          "text": [
            "720\n"
          ],
          "name": "stdout"
        }
      ]
    },
    {
      "cell_type": "markdown",
      "metadata": {
        "id": "hsSCl9C2deSp"
      },
      "source": [
        "12. Python program to find smallest number in a list\n",
        "#can use min function\n"
      ]
    },
    {
      "cell_type": "code",
      "metadata": {
        "id": "yorsOY8JdeSt",
        "outputId": "4a5e598f-28ce-4ef3-ebe7-55716615e067",
        "colab": {
          "base_uri": "https://localhost:8080/",
          "height": 35
        }
      },
      "source": [
        "l=[1,2,3,4,5,6,7,8,9,8,7,6,7,6]\n",
        "print(\"minimum of elements in list :\",min(l))"
      ],
      "execution_count": null,
      "outputs": [
        {
          "output_type": "stream",
          "text": [
            "minimum of elements in list : 1\n"
          ],
          "name": "stdout"
        }
      ]
    },
    {
      "cell_type": "markdown",
      "metadata": {
        "id": "z_aAYfrydeS0"
      },
      "source": [
        "13. Python program to find largest number in a list\n",
        "#can use max function"
      ]
    },
    {
      "cell_type": "code",
      "metadata": {
        "id": "G2AbfB_xdeS1",
        "outputId": "1acdc02d-6e30-4bc7-f948-0062799d2b87",
        "colab": {
          "base_uri": "https://localhost:8080/",
          "height": 35
        }
      },
      "source": [
        "l=[1,2,3,4,5,6,7,8,9,8,7,6,7,6]\n",
        "print(\"maximum of elements in list :\",max(l))"
      ],
      "execution_count": null,
      "outputs": [
        {
          "output_type": "stream",
          "text": [
            "maximum of elements in list : 9\n"
          ],
          "name": "stdout"
        }
      ]
    },
    {
      "cell_type": "markdown",
      "metadata": {
        "id": "x0agF8uUdeS7"
      },
      "source": [
        "14. Python program to find second largest number in a list\n",
        "#one way is sort and find the second largest number\n"
      ]
    },
    {
      "cell_type": "code",
      "metadata": {
        "id": "AnW9s3n9deS8",
        "outputId": "c705e34f-5027-4fdc-9f8c-991483d0ee24",
        "colab": {
          "base_uri": "https://localhost:8080/",
          "height": 35
        }
      },
      "source": [
        "l=[1,2,3,4,5,6,7,8,9,8,7,6,7,6]\n",
        "m=max(l)\n",
        "for i in range(m-1,min(l)-1,-1):\n",
        "  if i in l:\n",
        "    print(i,\"is the second largtst number\")\n",
        "    break\n",
        "\n"
      ],
      "execution_count": null,
      "outputs": [
        {
          "output_type": "stream",
          "text": [
            "8 is the second largtst number\n"
          ],
          "name": "stdout"
        }
      ]
    },
    {
      "cell_type": "markdown",
      "metadata": {
        "id": "QXvpfYj2deTD"
      },
      "source": [
        "15. Python program to find N largest elements from a list\n",
        "#hint sort the list and find the N largest numbers\n"
      ]
    },
    {
      "cell_type": "code",
      "metadata": {
        "id": "kNkNC87DdeTE",
        "outputId": "a287affe-7426-4647-903d-7dbc655aa884",
        "colab": {
          "base_uri": "https://localhost:8080/",
          "height": 126
        }
      },
      "source": [
        "l=[1,2,3,4,5,6,7,8,9,8,7,6,7,6,23,64,75,83,44]\n",
        "n=6\n",
        "flag=0\n",
        "for i in range(max(l),min(l)-1,-1):\n",
        "  if flag>=n:\n",
        "    break\n",
        "  if i in l:\n",
        "    flag=flag+1\n",
        "    print(i)\n",
        ""
      ],
      "execution_count": null,
      "outputs": [
        {
          "output_type": "stream",
          "text": [
            "83\n",
            "75\n",
            "64\n",
            "44\n",
            "23\n",
            "9\n"
          ],
          "name": "stdout"
        }
      ]
    },
    {
      "cell_type": "markdown",
      "metadata": {
        "id": "1bUMMn8ideTK"
      },
      "source": [
        "16. Python program to print even numbers in a list\n"
      ]
    },
    {
      "cell_type": "code",
      "metadata": {
        "id": "qoX-6wVIdeTN",
        "outputId": "5c8f07b1-6d63-4460-b589-f83165aae950",
        "colab": {
          "base_uri": "https://localhost:8080/",
          "height": 145
        }
      },
      "source": [
        "l=[1,2,3,4,5,6,7,8,9,8,7,6,7,6]\n",
        "for i in l:\n",
        "  if i%2==0:\n",
        "    print(i)\n",
        "\n"
      ],
      "execution_count": null,
      "outputs": [
        {
          "output_type": "stream",
          "text": [
            "2\n",
            "4\n",
            "6\n",
            "8\n",
            "8\n",
            "6\n",
            "6\n"
          ],
          "name": "stdout"
        }
      ]
    },
    {
      "cell_type": "markdown",
      "metadata": {
        "id": "-NNULl5UdeTY"
      },
      "source": [
        "17. Python program to print odd numbers in a List\n"
      ]
    },
    {
      "cell_type": "code",
      "metadata": {
        "id": "8-dtQ_ZhdeTZ",
        "outputId": "2155dbe3-83a8-49c1-a2f7-99c68d12d936",
        "colab": {
          "base_uri": "https://localhost:8080/",
          "height": 145
        }
      },
      "source": [
        "l=[1,2,3,4,5,6,7,8,9,8,7,6,7,6]\n",
        "for i in l:\n",
        "  if i%2!=0:\n",
        "    print(i)"
      ],
      "execution_count": null,
      "outputs": [
        {
          "output_type": "stream",
          "text": [
            "1\n",
            "3\n",
            "5\n",
            "7\n",
            "9\n",
            "7\n",
            "7\n"
          ],
          "name": "stdout"
        }
      ]
    },
    {
      "cell_type": "markdown",
      "metadata": {
        "id": "RBRwc33FdeTe"
      },
      "source": [
        "18. Python program to print all even numbers in a range\n"
      ]
    },
    {
      "cell_type": "code",
      "metadata": {
        "id": "H8wnaJk7deTf",
        "outputId": "14f8f99a-353a-490a-b233-a36ee51acdb6",
        "colab": {
          "base_uri": "https://localhost:8080/",
          "height": 163
        }
      },
      "source": [
        "a=int(input(\"Enter lower range: \"))\n",
        "b=int(input(\"Enter upper range: \"))\n",
        "for i in range(a,b+1):\n",
        "  if i%2==0:\n",
        "    print(i)\n",
        "\n",
        "\n",
        ""
      ],
      "execution_count": null,
      "outputs": [
        {
          "output_type": "stream",
          "text": [
            "Enter lower range: 10\n",
            "Enter upper range: 20\n",
            "10\n",
            "12\n",
            "14\n",
            "16\n",
            "18\n",
            "20\n"
          ],
          "name": "stdout"
        }
      ]
    },
    {
      "cell_type": "markdown",
      "metadata": {
        "id": "gA294ta3deTo"
      },
      "source": [
        "19. Python program to print all odd numbers in a range\n"
      ]
    },
    {
      "cell_type": "code",
      "metadata": {
        "id": "kubcXOdRdeTp",
        "outputId": "a11363bd-a089-48a5-9640-b1c8ce510b9a",
        "colab": {
          "base_uri": "https://localhost:8080/",
          "height": 145
        }
      },
      "source": [
        "a=int(input(\"Enter lower range: \"))\n",
        "b=int(input(\"Enter upper range: \"))\n",
        "for i in range(a,b+1):\n",
        "  if i%2!=0:\n",
        "    print(i)\n"
      ],
      "execution_count": null,
      "outputs": [
        {
          "output_type": "stream",
          "text": [
            "Enter lower range: 10\n",
            "Enter upper range: 20\n",
            "11\n",
            "13\n",
            "15\n",
            "17\n",
            "19\n"
          ],
          "name": "stdout"
        }
      ]
    },
    {
      "cell_type": "markdown",
      "metadata": {
        "id": "LylJ8MUSdeTs"
      },
      "source": [
        "20. Python program to count Even and Odd numbers in a List\n"
      ]
    },
    {
      "cell_type": "code",
      "metadata": {
        "id": "aJOAsqnQdeTu",
        "outputId": "ff119df8-7189-4e5e-dead-7101f5fa7160",
        "colab": {
          "base_uri": "https://localhost:8080/",
          "height": 54
        }
      },
      "source": [
        "l=[1,2,3,4,5,6,7,8,9,8,7,6,7,6]\n",
        "e=0\n",
        "o=0\n",
        "for i in l:\n",
        "  if i%2==0:\n",
        "    e+=1\n",
        "  if i%2==0:\n",
        "    o+=1\n",
        "print(\"number of even numbers is \",e,\"\\nnumber of odd numbers is \",o)"
      ],
      "execution_count": null,
      "outputs": [
        {
          "output_type": "stream",
          "text": [
            "number of even numbers is  7 \n",
            "number of odd numbers is  7\n"
          ],
          "name": "stdout"
        }
      ]
    },
    {
      "cell_type": "markdown",
      "metadata": {
        "id": "JmvRnrz1deT1"
      },
      "source": [
        "21. Python program to print positive numbers in a list\n"
      ]
    },
    {
      "cell_type": "code",
      "metadata": {
        "id": "dCb7RRhwdeT2",
        "outputId": "8ba6b509-99ba-4bde-c429-7bcbe9d23648",
        "colab": {
          "base_uri": "https://localhost:8080/",
          "height": 199
        }
      },
      "source": [
        "l=[1,2,3,4,5,6,-7,-8,9,-8,7,-6,7,6]\n",
        "for i in l:\n",
        "  if i>=0:\n",
        "    print(i)\n",
        "\n",
        "\n"
      ],
      "execution_count": null,
      "outputs": [
        {
          "output_type": "stream",
          "text": [
            "1\n",
            "2\n",
            "3\n",
            "4\n",
            "5\n",
            "6\n",
            "9\n",
            "7\n",
            "7\n",
            "6\n"
          ],
          "name": "stdout"
        }
      ]
    },
    {
      "cell_type": "markdown",
      "metadata": {
        "id": "ieaH1jvadeT7"
      },
      "source": [
        "22. Python program to print negative numbers in a list\n"
      ]
    },
    {
      "cell_type": "code",
      "metadata": {
        "id": "WjEupYZndeT7",
        "outputId": "57b09b07-1f60-4bef-9d91-6703390611aa",
        "colab": {
          "base_uri": "https://localhost:8080/",
          "height": 90
        }
      },
      "source": [
        "l=[1,2,3,4,5,6,-7,-8,9,-8,7,-6,7,6]\n",
        "for i in l:\n",
        "  if i<0:\n",
        "    print(i)"
      ],
      "execution_count": null,
      "outputs": [
        {
          "output_type": "stream",
          "text": [
            "-7\n",
            "-8\n",
            "-8\n",
            "-6\n"
          ],
          "name": "stdout"
        }
      ]
    },
    {
      "cell_type": "markdown",
      "metadata": {
        "id": "UYSuDxyYdeUJ"
      },
      "source": [
        "23. Python program to print all positive numbers in a range\n"
      ]
    },
    {
      "cell_type": "code",
      "metadata": {
        "id": "NnnazwzQdeUJ",
        "outputId": "2b98965e-fc64-411e-ea04-46a92e454c51",
        "colab": {
          "base_uri": "https://localhost:8080/",
          "height": 290
        }
      },
      "source": [
        "a=int(input(\"Enter lower range: \"))\n",
        "b=int(input(\"Enter upper range: \"))\n",
        "for i in range(a,b+1):\n",
        "  if i>=0:\n",
        "    print(i)"
      ],
      "execution_count": null,
      "outputs": [
        {
          "output_type": "stream",
          "text": [
            "Enter lower range: -10\n",
            "Enter upper range: 12\n",
            "0\n",
            "1\n",
            "2\n",
            "3\n",
            "4\n",
            "5\n",
            "6\n",
            "7\n",
            "8\n",
            "9\n",
            "10\n",
            "11\n",
            "12\n"
          ],
          "name": "stdout"
        }
      ]
    },
    {
      "cell_type": "markdown",
      "metadata": {
        "id": "7yQpMA_8deUP"
      },
      "source": [
        "24. Python program to print all negative numbers in a range\n"
      ]
    },
    {
      "cell_type": "code",
      "metadata": {
        "id": "kKzVzS0KdeUQ",
        "outputId": "28608b09-cfdf-4976-bb3d-5b2efabd7df3",
        "colab": {
          "base_uri": "https://localhost:8080/",
          "height": 145
        }
      },
      "source": [
        "a=int(input(\"Enter lower range: \"))\n",
        "b=int(input(\"Enter upper range: \"))\n",
        "for i in range(a,b+1):\n",
        "  if i<0:\n",
        "    print(i)"
      ],
      "execution_count": null,
      "outputs": [
        {
          "output_type": "stream",
          "text": [
            "Enter lower range: -5\n",
            "Enter upper range: 5\n",
            "-5\n",
            "-4\n",
            "-3\n",
            "-2\n",
            "-1\n"
          ],
          "name": "stdout"
        }
      ]
    },
    {
      "cell_type": "markdown",
      "metadata": {
        "id": "dZEkJ6hBdeUY"
      },
      "source": [
        "25. Python program to count positive and negative numbers in a list\n"
      ]
    },
    {
      "cell_type": "code",
      "metadata": {
        "id": "C0E2JeRcdeUY",
        "outputId": "286af17c-d26e-46da-f758-1b7e6c7c0065",
        "colab": {
          "base_uri": "https://localhost:8080/",
          "height": 54
        }
      },
      "source": [
        "l=[1,2,3,4,-5,-6,7,8,-9,8,7,-6,7,-6]\n",
        "n=0\n",
        "p=0\n",
        "for i in l:\n",
        "  if i<0:\n",
        "    n+=1\n",
        "  if i>=0:\n",
        "    p+=1\n",
        "print(\"number of positive numbers is \",p,\"\\nnumber of negetive numbers is \",n)"
      ],
      "execution_count": null,
      "outputs": [
        {
          "output_type": "stream",
          "text": [
            "number of positive numbers is  9 \n",
            "number of negetive numbers is  5\n"
          ],
          "name": "stdout"
        }
      ]
    },
    {
      "cell_type": "markdown",
      "metadata": {
        "id": "tixr7HsodeUd"
      },
      "source": [
        "26. Remove multiple elements from a list in Python\n"
      ]
    },
    {
      "cell_type": "code",
      "metadata": {
        "id": "US3fSe3VdeUe",
        "outputId": "cbf6853f-78ef-45e6-815c-aa5dcb1e75ce",
        "colab": {
          "base_uri": "https://localhost:8080/",
          "height": 35
        }
      },
      "source": [
        "l=[1,2,3,4,5,6,7,8,9,8,7,6,7,6]\n",
        "l2=[]\n",
        "for i in l:\n",
        "  if i not in l2:\n",
        "    l2.append(i)\n",
        "\n",
        "l=l2\n",
        "print(\"list after removing elements is \",l)\n",
        ""
      ],
      "execution_count": null,
      "outputs": [
        {
          "output_type": "stream",
          "text": [
            "list after removing elements is  [1, 2, 3, 4, 5, 6, 7, 8, 9]\n"
          ],
          "name": "stdout"
        }
      ]
    },
    {
      "cell_type": "markdown",
      "metadata": {
        "id": "Lw5dCcARdeUo"
      },
      "source": [
        "28. Python | Program to print duplicates from a list of integers\n"
      ]
    },
    {
      "cell_type": "code",
      "metadata": {
        "id": "CVgnVuDsdeUp",
        "outputId": "fed03e46-c763-474f-9e61-0d01cb3c6759",
        "colab": {
          "base_uri": "https://localhost:8080/",
          "height": 35
        }
      },
      "source": [
        "l=[1,2,3,4,5,6,7,8,9,8,7,6,7,6]\n",
        "l2=[]\n",
        "for i in l:\n",
        "  flag=0\n",
        "  if i not in l2:\n",
        "    for j in l:\n",
        "      if i==j:\n",
        "        flag=flag+1\n",
        "  if flag>1:\n",
        "    l2.append(i)\n",
        "print(l2)\n",
        "\n"
      ],
      "execution_count": null,
      "outputs": [
        {
          "output_type": "stream",
          "text": [
            "[6, 7, 8]\n"
          ],
          "name": "stdout"
        }
      ]
    },
    {
      "cell_type": "markdown",
      "metadata": {
        "id": "yjshn3cWdeUw"
      },
      "source": [
        "29. Python program to find Cumulative sum of a list\n"
      ]
    },
    {
      "cell_type": "code",
      "metadata": {
        "id": "ondAHbL6deUx",
        "outputId": "54d6961a-43f5-4131-8592-61e73ee0f286",
        "colab": {
          "base_uri": "https://localhost:8080/",
          "height": 35
        }
      },
      "source": [
        "l=[10, 20, 30, 40, 50]\n",
        "cl=[]\n",
        "n=len(l)\n",
        "for i in range(0,n+1):\n",
        "  cl.append(sum(l[0:i]))\n",
        "cl.pop(0)\n",
        "print(\"cumulative sum list is \",cl)"
      ],
      "execution_count": null,
      "outputs": [
        {
          "output_type": "stream",
          "text": [
            "cumulative sum list is  [10, 30, 60, 100, 150]\n"
          ],
          "name": "stdout"
        }
      ]
    },
    {
      "cell_type": "markdown",
      "metadata": {
        "id": "t5QJqPL4deU5"
      },
      "source": [
        "30. Break a list into chunks of size N in Python.\n",
        "last chunk can be less than N."
      ]
    },
    {
      "cell_type": "code",
      "metadata": {
        "id": "T5E7vS37deU6",
        "outputId": "5b7aaec5-c73b-4651-af81-2290bcb78f7a",
        "colab": {
          "base_uri": "https://localhost:8080/",
          "height": 545
        }
      },
      "source": [
        "l=[1,2,3,4,5,6,7,8,9,8,7,6,7,6]\n",
        "ln=len(l)\n",
        "n=int(input(\"enter the size of chunks :\"))\n",
        "for i in range(0,ln,n):\n",
        "  flag=1\n",
        "  while(flag<=n):\n",
        "    print(l[i])\n",
        "    flag+=1\n",
        "    i+=1\n",
        "  print(\"\\n\")"
      ],
      "execution_count": null,
      "outputs": [
        {
          "output_type": "stream",
          "text": [
            "enter the size of chunks :2\n",
            "1\n",
            "2\n",
            "\n",
            "\n",
            "3\n",
            "4\n",
            "\n",
            "\n",
            "5\n",
            "6\n",
            "\n",
            "\n",
            "7\n",
            "8\n",
            "\n",
            "\n",
            "9\n",
            "8\n",
            "\n",
            "\n",
            "7\n",
            "6\n",
            "\n",
            "\n",
            "7\n",
            "6\n",
            "\n",
            "\n"
          ],
          "name": "stdout"
        }
      ]
    }
  ]
}