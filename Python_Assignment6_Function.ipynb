{
  "nbformat": 4,
  "nbformat_minor": 0,
  "metadata": {
    "kernelspec": {
      "display_name": "Python 3",
      "language": "python",
      "name": "python3"
    },
    "language_info": {
      "codemirror_mode": {
        "name": "ipython",
        "version": 3
      },
      "file_extension": ".py",
      "mimetype": "text/x-python",
      "name": "python",
      "nbconvert_exporter": "python",
      "pygments_lexer": "ipython3",
      "version": "3.7.3"
    },
    "colab": {
      "provenance": []
    }
  },
  "cells": [
    {
      "cell_type": "markdown",
      "metadata": {
        "id": "TB1P6X2vR-2H"
      },
      "source": [
        "\n",
        "\n",
        "Write a Python program that converts temperature in Celsius to Fahrenheit and vice versa. Implement the requirements using functions.\n",
        "1) Write a function defnition to accept temperature in Fahrenheit and return the temperature in Celsius\n",
        "2) Write a function defnition to accept temperature in Celsius and return the temperature in Fahrenheit\n",
        "\n",
        "Hint: C= (F-32)*(5/9)\n",
        "Invoke the function and display the tempeature in calling block."
      ]
    },
    {
      "cell_type": "code",
      "metadata": {
        "id": "ljmASxOUR-2P",
        "outputId": "84cee91e-ab6e-469c-b6a1-b9fabcbe27f6",
        "colab": {
          "base_uri": "https://localhost:8080/"
        }
      },
      "source": [
        "def cel(x):\n",
        "    return(1.8*x+32)\n",
        "\n",
        "def fahr(y):\n",
        "    return(0.55*y-17.6)\n",
        "\n",
        "a=float(input(\" Enter temperature : \"))\n",
        "b=int(input(\" Enter unit of temperature\\nenter 1 for celcious 2 for fahrenheit: \"))\n",
        "\n",
        "if b==1:\n",
        "    ans=cel(a)\n",
        "    print(\"Temperature in Fahrenheit is \",ans,\" F\")\n",
        "elif b==2:\n",
        "    ans=fahr(a)\n",
        "    print(\"Temperature in Celcius is \",ans,\"C\")\n",
        "else:\n",
        "  print(\"enter 1 or 2\")\n"
      ],
      "execution_count": null,
      "outputs": [
        {
          "output_type": "stream",
          "text": [
            " Enter temperature : 36\n",
            " Enter unit of temperature\n",
            "enter 1 for celcious 2 for fahrenheit: 1\n",
            "Temperature in Fahrenheit is  96.8  F\n"
          ],
          "name": "stdout"
        }
      ]
    },
    {
      "cell_type": "markdown",
      "metadata": {
        "id": "_Ftfcyy0R-2o"
      },
      "source": [
        "Write a pyhton function, find_square() that accepts an integer number, n and returns the square of n.\n",
        "Invoke the function and display the square of the number."
      ]
    },
    {
      "cell_type": "code",
      "metadata": {
        "id": "pK9-oiPGR-2s"
      },
      "source": [
        "def find_square(N):\n",
        "  return N**2\n",
        "n=int(input(\"enter an integer \"))\n",
        "print(n,\"square=\",find_square(n))\n"
      ],
      "execution_count": null,
      "outputs": []
    },
    {
      "cell_type": "markdown",
      "metadata": {
        "id": "s9tmmaAPR-2-"
      },
      "source": [
        "Write a Pyhton function, find_sum()\n",
        "that accepts an integer, n and returns the sum of first, n numbers.\n",
        "Invoke the function and display the sum of first n numbers.\n",
        "example: sample Input=6    output=21"
      ]
    },
    {
      "cell_type": "code",
      "metadata": {
        "id": "kxHsmq-zR-3G",
        "outputId": "5de1a1a9-327a-4c59-8f96-32ef42b3bd34",
        "colab": {
          "base_uri": "https://localhost:8080/"
        }
      },
      "source": [
        "def find_sum(N):\n",
        "  sum=0\n",
        "  for i in range(N+1):\n",
        "    sum=sum+i\n",
        "\n",
        "  return sum\n",
        "\n",
        "n=int(input(\"enter an integer   :\"))\n",
        "print(\"Sum of first n intreger is\",find_sum(n))\n"
      ],
      "execution_count": null,
      "outputs": [
        {
          "output_type": "stream",
          "text": [
            "enter an integer   :6\n",
            "Sum of first n intreger is 21\n"
          ],
          "name": "stdout"
        }
      ]
    },
    {
      "cell_type": "markdown",
      "metadata": {
        "id": "wCGGPC01R-3W"
      },
      "source": [
        "The road transport corporation (RTC) of a city wants to know whether a particular bus-route is running on profit or loss.\n",
        "\n",
        "Assume that the following information are given:\n",
        "Price per litre of fuel = 70\n",
        "Mileage of the bus in km/litre of fuel = 10\n",
        "Price(Rs) per ticket = 80\n",
        "\n",
        "The bus runs on multiple routes having different distance in kms and number of passengers.\n",
        "Write a function to calculate and return the profit earned (Rs) in each route. Return -1 in case of loss.\n",
        "\n",
        "Provide different values for distance, no_of_passenger and test your program\n",
        "example:\n",
        "distance=20\n",
        "no_of_passengers=50\n",
        "print(calculate(distance,no_of_passengers))\n"
      ]
    },
    {
      "cell_type": "code",
      "metadata": {
        "id": "-2VMnhaeR-3Z",
        "outputId": "4b8d6a46-51c9-41af-feb1-119038651685",
        "colab": {
          "base_uri": "https://localhost:8080/"
        }
      },
      "source": [
        "def calculate(distance,no_of_passengers):\n",
        "\n",
        "    no_of_litres=distance/10.0\n",
        "    expense=no_of_litres*70.0\n",
        "    amt_earned=no_of_passengers*80\n",
        "\n",
        "    if amt_earned-expense>=0:\n",
        "        return(amt_earned-expense)\n",
        "    else:\n",
        "        return(-1)\n",
        "\n",
        "distance=float(input(\"Enter total distance covered : \"))\n",
        "passengers=int(input(\"Enter total no.of passengers : \"))\n",
        "profit=calculate(distance,passengers)\n",
        "\n",
        "if profit>=0:\n",
        "    print(\"Profit is \",profit)\n",
        "else:\n",
        "    print(\"Loss occurred and loss amount is \",profit)"
      ],
      "execution_count": null,
      "outputs": [
        {
          "output_type": "stream",
          "text": [
            "Enter total distance covered : 20\n",
            "Enter total no.of passengers : 50\n",
            "Profit is  3860.0\n"
          ],
          "name": "stdout"
        }
      ]
    },
    {
      "cell_type": "markdown",
      "metadata": {
        "id": "V4YY2gw7R-3n"
      },
      "source": [
        "Given a string containing uppercase characters (A-Z), compress the string using Run Length encoding. Repetition of character has to be replaced by storing the length of that run.\n",
        "\n",
        "Write a python function which performs the run length encoding for a given String and returns the run length encoded String.\n",
        "\n",
        "Provide different String values and test your program.\n",
        "\n",
        "Sample Input\t         Expected Output\n",
        "AAAABBBBCCCCCCCC\t          4A4B8C\n",
        "AABCCA\t                      2A1B2C1A"
      ]
    },
    {
      "cell_type": "code",
      "metadata": {
        "id": "6qkrv4-nR-3o",
        "outputId": "192bc3e0-d46c-4d71-89aa-0abe8d0a3e26",
        "colab": {
          "base_uri": "https://localhost:8080/"
        }
      },
      "source": [
        "def run_length_encoding(str2):\n",
        "\n",
        "    ans=\"\"\n",
        "    length=len(str2)\n",
        "    i=0\n",
        "\n",
        "    while(i<=length-1):\n",
        "        count=1\n",
        "        ch=str2[i]\n",
        "        j=i\n",
        "        while(j<length-1):\n",
        "\n",
        "            if str2[j]==str2[j+1]:\n",
        "                count=count+1\n",
        "                j=j+1\n",
        "            else:\n",
        "                break\n",
        "        ans=ans+str(count)+ch\n",
        "        i=j+1\n",
        "\n",
        "    return(ans)\n",
        "\n",
        "\n",
        "str1=input(\"Enter a string : \")\n",
        "print(run_length_encoding(str1))"
      ],
      "execution_count": null,
      "outputs": [
        {
          "output_type": "stream",
          "text": [
            "Enter a string : aagkkhk\n",
            "2a1g2k1h1k\n"
          ],
          "name": "stdout"
        }
      ]
    },
    {
      "cell_type": "markdown",
      "metadata": {
        "id": "on1BIG62R-3s"
      },
      "source": [
        "Write a function, check_palindrome() to check whether the given string is a palindrome or not. The function should return true if it is a palindrome else it should return false."
      ]
    },
    {
      "cell_type": "code",
      "metadata": {
        "id": "2FWKIQ09R-3t",
        "outputId": "b7976978-ac43-4468-a834-5f0f12cba269",
        "colab": {
          "base_uri": "https://localhost:8080/"
        }
      },
      "source": [
        "def check_palindrome(s):\n",
        "  return s == s[::-1]\n",
        "\n",
        "s=input(\"enter a string   :\")\n",
        "ans = check_palindrome(s)\n",
        "\n",
        "if ans==True:\n",
        "    print(\"STRING IS PALINDROME\")\n",
        "else:\n",
        "    print(\"STRING IS NOT PALINDROME\")"
      ],
      "execution_count": null,
      "outputs": [
        {
          "output_type": "stream",
          "text": [
            "enter a string   :sabhbas\n",
            "STRING IS PALINDROME\n"
          ],
          "name": "stdout"
        }
      ]
    },
    {
      "cell_type": "markdown",
      "metadata": {
        "id": "fS33X_AlR-30"
      },
      "source": [
        "Write a python program to display all the common characters between two strings. Return -1 if there are no matching characters.\n",
        "\n",
        "Note: Ignore blank spaces if there are any. Perform case sensitive string comparison wherever necessary.\n",
        "\n",
        "Sample Input:\n",
        "string1= \"I like Python\"\n",
        "string2=\"Java is a very popular language\"\n",
        "Expected output: \tlieyon\n",
        "\n"
      ]
    },
    {
      "cell_type": "code",
      "metadata": {
        "id": "ooYoT38FR-31",
        "outputId": "3b2d3567-ab8c-4b1d-edaa-b7e1a9b24455",
        "colab": {
          "base_uri": "https://localhost:8080/"
        }
      },
      "source": [
        "def common(str1,str2):\n",
        "\n",
        "    a=list(set(str1)&set(str2))\n",
        "    ans=\"\"\n",
        "    for i in a:\n",
        "        if i==\" \":\n",
        "            continue\n",
        "        else:\n",
        "            ans=ans+i\n",
        "    return(ans)\n",
        "\n",
        "\n",
        "str1=input(\"Enter string 1 : \")\n",
        "str2=input(\"Enter string 2 : \")\n",
        "print(common(str1,str2))\n"
      ],
      "execution_count": null,
      "outputs": [
        {
          "output_type": "stream",
          "text": [
            "Enter string 1 : I like Python\n",
            "Enter string 2 : Java is a very popular language\n",
            "yeionl\n"
          ],
          "name": "stdout"
        }
      ]
    },
    {
      "cell_type": "markdown",
      "metadata": {
        "id": "SWR4xxUoR-35"
      },
      "source": [
        "Write a Python function to multiply all the numbers in a list."
      ]
    },
    {
      "cell_type": "code",
      "metadata": {
        "id": "KzmEwpbTR-36",
        "outputId": "3a754a09-13df-4d6c-ce39-6963a6cdbf31",
        "colab": {
          "base_uri": "https://localhost:8080/"
        }
      },
      "source": [
        "def multiply(list1):\n",
        "    ans=1\n",
        "    for i in list1:\n",
        "        ans=ans*int(i)\n",
        "    return ans\n",
        "\n",
        "list1=[1,2,3,4,5]\n",
        "print(multiply(list1))"
      ],
      "execution_count": null,
      "outputs": [
        {
          "output_type": "stream",
          "text": [
            "120\n"
          ],
          "name": "stdout"
        }
      ]
    },
    {
      "cell_type": "markdown",
      "metadata": {
        "id": "M6ZwTy1ER-3-"
      },
      "source": [
        "Write a Python function that accepts a string and calculate the number of upper case letters and lower case letters."
      ]
    },
    {
      "cell_type": "code",
      "metadata": {
        "id": "Q_lXQPJKR-3_",
        "outputId": "a19e3e8f-6b66-49d8-b998-fcdffd6a6041",
        "colab": {
          "base_uri": "https://localhost:8080/"
        }
      },
      "source": [
        "def cal(str1):\n",
        "    upper=0\n",
        "    lower=0\n",
        "    for i in range(len(str1)):\n",
        "        x=str1[i].islower()\n",
        "        if x==True:\n",
        "            lower+=1\n",
        "        else:\n",
        "            upper+=1\n",
        "    return(lower,upper)\n",
        "\n",
        "str1=input(\"Enter a string : \")\n",
        "l,u=cal(str1)\n",
        "print(\"Lower case letters \",l)\n",
        "print(\"Upper case letters \",u)"
      ],
      "execution_count": null,
      "outputs": [
        {
          "output_type": "stream",
          "text": [
            "Enter a string : QWE#3qwe\n",
            "Lower case letters  3\n",
            "Upper case letters  5\n"
          ],
          "name": "stdout"
        }
      ]
    },
    {
      "cell_type": "markdown",
      "metadata": {
        "id": "TXZidaopR-4F"
      },
      "source": [
        "Write a Python function that takes a number as a parameter and check the number is prime or not.return true if prime else false"
      ]
    },
    {
      "cell_type": "code",
      "metadata": {
        "id": "q87LZEPFR-4G",
        "outputId": "640405da-8df2-482f-bbcc-178fc997390c",
        "colab": {
          "base_uri": "https://localhost:8080/"
        }
      },
      "source": [
        "def prime(num):\n",
        "    x=0\n",
        "    for i in range(1,num//2+1):\n",
        "        if num%i==0:\n",
        "            return False\n",
        "        else:\n",
        "            pass\n",
        "    return True\n",
        "\n",
        "num=int(input(\"Enter a number : \"))\n",
        "print(prime(num))"
      ],
      "execution_count": null,
      "outputs": [
        {
          "output_type": "stream",
          "text": [
            "Enter a number : 2\n",
            "False\n"
          ],
          "name": "stdout"
        }
      ]
    },
    {
      "cell_type": "code",
      "metadata": {
        "id": "uiyPMrMaR-4L"
      },
      "source": [],
      "execution_count": null,
      "outputs": []
    }
  ]
}