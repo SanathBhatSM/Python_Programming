{
  "nbformat": 4,
  "nbformat_minor": 0,
  "metadata": {
    "colab": {
      "provenance": []
    },
    "kernelspec": {
      "name": "python3",
      "display_name": "Python 3"
    },
    "language_info": {
      "name": "python"
    }
  },
  "cells": [
    {
      "cell_type": "code",
      "execution_count": null,
      "metadata": {
        "id": "uEw6FVkxIq9y"
      },
      "outputs": [],
      "source": [
        "\n",
        "# Python3 code to demonstrate working of\n",
        "# Addition of tuples\n",
        "\n",
        "# initialize tuples\n",
        "test_tup1 = (10, 4, 5)\n",
        "test_tup2 = (2, 5, 18)\n",
        "\n",
        "# printing original tuples\n",
        "print(\"The original tuple 1 : \" + str(test_tup1))\n",
        "print(\"The original tuple 2 : \" + str(test_tup2))\n",
        "\n",
        "# Addition of tuples\n",
        "res=[]\n",
        "for i in range(0,len(test_tup1)):\n",
        "    res.append(test_tup1[i]+test_tup2[i])\n",
        "res=tuple(res)\n",
        "# printing result\n",
        "print(\"Resultant tuple after addition : \" + str(res))"
      ]
    },
    {
      "cell_type": "code",
      "source": [
        "tuple1 = (1,2,8)\n",
        "tuple2 = (1,2,6)\n",
        "\n",
        "print( tuple1 < tuple2 )\n",
        "print(cmp(tuple1,tuple2))\n"
      ],
      "metadata": {
        "colab": {
          "base_uri": "https://localhost:8080/",
          "height": 217
        },
        "id": "EidfNAm5Or56",
        "outputId": "88eeed8b-6515-4a97-994a-43812e78ea80"
      },
      "execution_count": null,
      "outputs": [
        {
          "output_type": "stream",
          "name": "stdout",
          "text": [
            "False\n"
          ]
        },
        {
          "output_type": "error",
          "ename": "NameError",
          "evalue": "ignored",
          "traceback": [
            "\u001b[0;31m---------------------------------------------------------------------------\u001b[0m",
            "\u001b[0;31mNameError\u001b[0m                                 Traceback (most recent call last)",
            "\u001b[0;32m<ipython-input-5-6ec80e95d2d3>\u001b[0m in \u001b[0;36m<module>\u001b[0;34m\u001b[0m\n\u001b[1;32m      3\u001b[0m \u001b[0;34m\u001b[0m\u001b[0m\n\u001b[1;32m      4\u001b[0m \u001b[0mprint\u001b[0m\u001b[0;34m(\u001b[0m \u001b[0mtuple1\u001b[0m \u001b[0;34m<\u001b[0m \u001b[0mtuple2\u001b[0m \u001b[0;34m)\u001b[0m\u001b[0;34m\u001b[0m\u001b[0;34m\u001b[0m\u001b[0m\n\u001b[0;32m----> 5\u001b[0;31m \u001b[0mprint\u001b[0m\u001b[0;34m(\u001b[0m\u001b[0mcmp\u001b[0m\u001b[0;34m(\u001b[0m\u001b[0mtuple1\u001b[0m\u001b[0;34m,\u001b[0m\u001b[0mtuple2\u001b[0m\u001b[0;34m)\u001b[0m\u001b[0;34m)\u001b[0m\u001b[0;34m\u001b[0m\u001b[0;34m\u001b[0m\u001b[0m\n\u001b[0m",
            "\u001b[0;31mNameError\u001b[0m: name 'cmp' is not defined"
          ]
        }
      ]
    }
  ]
}