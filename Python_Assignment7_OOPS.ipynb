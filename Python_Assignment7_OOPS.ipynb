{
  "cells": [
    {
      "cell_type": "markdown",
      "metadata": {
        "id": "ZTUrmklNcvxo"
      },
      "source": [
        "Implement the Customer class based on the identified class structure and details given below:\n",
        "A shop consists following items with cost : a) Furniture=900  b)\n",
        "\n",
        "    1. Consider all instance(object) variables and methods to be public\n",
        "    2. Assume that bill_amount is initialized with total bill amount of the customer\n",
        "    3. Customer is eligible for 5% discount on the bill amount if the billamount exceed s 1000.\n",
        "    4. purchases(): Compute discounted bill amount and pay bill\n",
        "    5. pays_bill(amount): Display, <customer_name> pays bill amount of Rs. <amount>\n",
        "\n",
        "Represent few customers, invoke purchases() method and display the details."
      ]
    },
    {
      "cell_type": "markdown",
      "metadata": {
        "id": "ObwuehV_cvxo"
      },
      "source": [
        "Understand the program"
      ]
    },
    {
      "cell_type": "code",
      "execution_count": 1,
      "metadata": {
        "colab": {
          "base_uri": "https://localhost:8080/"
        },
        "id": "H-c5KGygcvxo",
        "outputId": "f160d9e0-4c73-450e-bdd3-07cc79962ddd"
      },
      "outputs": [
        {
          "name": "stdout",
          "output_type": "stream",
          "text": [
            "Sanath pays bill amount of Rs. 950.00\n",
            "Thejus pays bill amount of Rs. 500.00\n",
            "Pratham pays bill amount of Rs. 1900.00\n"
          ]
        }
      ],
      "source": [
        "class Customer:\n",
        "    def __init__(self,name,bill_amount):\n",
        "        self.name=name\n",
        "        self.bill_amount=bill_amount\n",
        "    def purchases(self):\n",
        "        discount=0\n",
        "        if(self.bill_amount>=1000):\n",
        "            discount=5\n",
        "        self.bill_amount=self.bill_amount- (discount*self.bill_amount*0.01)\n",
        "        self.pays_bill()\n",
        "    def pays_bill(self):\n",
        "        print(\"%s pays bill amount of Rs. %.2f\" %(self.name, self.bill_amount))\n",
        "#######################################################################################\n",
        "\n",
        "cust1 = Customer(\"Sanath\",1000)\n",
        "cust1.purchases()\n",
        "cust2 = Customer(\"Thejus\",500)\n",
        "cust2.purchases()\n",
        "cust2 = Customer(\"Pratham\",2000)\n",
        "cust2.purchases()"
      ]
    },
    {
      "cell_type": "markdown",
      "metadata": {
        "id": "Ad5v7_jccvxs"
      },
      "source": [
        "Assignment: 2"
      ]
    },
    {
      "cell_type": "markdown",
      "metadata": {
        "id": "HwRRCOdfcvxs"
      },
      "source": [
        "CMR insurance company wants to calculate premium of vehicles.\n",
        "Vehicles are of two types – \"Two Wheeler\" and \"Four Wheeler\". Each vehicle is identified by vehicle id, type, cost and premium amount.\n",
        "Premium amount is 2% of the vehicle cost for two wheelers and 6% of the vehicle cost for four wheelers. Calculate the premium amount and display the vehicle details.\n",
        "\n",
        "Identify the class name and attributes to represent vehicles. Drag and drop the chosen class name, attributes and methods into the appropriate section of the box shown below.\n",
        "![image.png](attachment:image.png)"
      ]
    },
    {
      "cell_type": "markdown",
      "metadata": {
        "id": "DMxQVF4vcvxs"
      },
      "source": [
        "Program structure given for the above assignemt. Try to completet the program"
      ]
    },
    {
      "cell_type": "code",
      "execution_count": null,
      "metadata": {
        "colab": {
          "base_uri": "https://localhost:8080/",
          "height": 376
        },
        "id": "V9xfCMm5cvxs",
        "outputId": "9f3f81ba-e548-4e2c-d09e-ada3fa61e059"
      },
      "outputs": [
        {
          "ename": "TypeError",
          "evalue": "ignored",
          "output_type": "error",
          "traceback": [
            "\u001b[0;31m---------------------------------------------------------------------------\u001b[0m",
            "\u001b[0;31mTypeError\u001b[0m                                 Traceback (most recent call last)",
            "\u001b[0;32m<ipython-input-2-53ea33ae72ca>\u001b[0m in \u001b[0;36m<module>\u001b[0;34m()\u001b[0m\n\u001b[1;32m     20\u001b[0m \u001b[0;34m\u001b[0m\u001b[0m\n\u001b[1;32m     21\u001b[0m \u001b[0;31m##########\u001b[0m\u001b[0;34m\u001b[0m\u001b[0;34m\u001b[0m\u001b[0;34m\u001b[0m\u001b[0m\n\u001b[0;32m---> 22\u001b[0;31m \u001b[0mv1\u001b[0m\u001b[0;34m=\u001b[0m\u001b[0mVehicle\u001b[0m\u001b[0;34m(\u001b[0m\u001b[0;36m2098\u001b[0m\u001b[0;34m,\u001b[0m\u001b[0;34m\"two_wheeler\"\u001b[0m\u001b[0;34m,\u001b[0m\u001b[0;36m40000\u001b[0m\u001b[0;34m)\u001b[0m\u001b[0;34m\u001b[0m\u001b[0;34m\u001b[0m\u001b[0m\n\u001b[0m\u001b[1;32m     23\u001b[0m \u001b[0mv1\u001b[0m\u001b[0;34m.\u001b[0m\u001b[0mdisplay_vehicle_details\u001b[0m\u001b[0;34m(\u001b[0m\u001b[0;34m)\u001b[0m\u001b[0;34m\u001b[0m\u001b[0;34m\u001b[0m\u001b[0m\n",
            "\u001b[0;31mTypeError\u001b[0m: object() takes no parameters"
          ]
        }
      ],
      "source": [
        "#complete the code according to requireemnts\n",
        "#premium_amount needs to be claculated , so set to 0 in constructor\n",
        "class Vehicle:\n",
        "    def _init_(self,vehicle_id,vehicle_type,cost):\n",
        "        self.vehicle_id=vehicle_id\n",
        "        self.vehicle_type=vehicle_type\n",
        "        self.vehicle_cost=cost\n",
        "        self.premium_amount=self.calculate_premium()\n",
        "\n",
        "    def calculate_premium(self):\n",
        "        if(self.vehicle_type==\"two_wheeler\"):\n",
        "            self.premium_amount= 0.02*self.vehicle_cost\n",
        "        else:\n",
        "            self.premium_amount= 0.06*self.vehicle_cost\n",
        "        return self.premium_amount\n",
        "\n",
        "    def display_vehicle_details(self):\n",
        "        print(\"vehicle details are id=\",self.vehicle_id,\"\\nVehicle type : \",self.vehicle_type,\"\\nVehicle cost : \",self.vehicle_cost,\"\\nVehicle premium : \",self.premium_amount)\n",
        "\n",
        "\n",
        "##########\n",
        "v1=Vehicle(2098,\"two_wheeler\",40000)\n",
        "v1.display_vehicle_details()"
      ]
    },
    {
      "cell_type": "markdown",
      "metadata": {
        "id": "2AnSXbwHcvxs"
      },
      "source": [
        "Assignment:3"
      ]
    },
    {
      "cell_type": "markdown",
      "metadata": {
        "id": "xkD0xLbzcvxs"
      },
      "source": [
        "TechWorld, a technology training center, wants to allocate courses for instructors.\n",
        "An instructor is identified by name, technology skills, experience and average feedback.\n",
        "An instructor is allocated a course, if he/she satisfies the below two conditions:\n",
        "\n",
        "eligibility criteria:\n",
        "if experience is more than 3 years, average feedback should be 4.5 or more\n",
        "if experience is 3 years or less, average feedback should be 4 or more\n",
        "he/she should posses the technology skill for the course"
      ]
    },
    {
      "cell_type": "markdown",
      "metadata": {
        "id": "XVjSw5Yzcvxs"
      },
      "source": [
        "![image.png](attachment:image.png)"
      ]
    },
    {
      "cell_type": "markdown",
      "metadata": {
        "id": "rU9pvYUNcvxs"
      },
      "source": [
        "Write a Python program to implement the class chosen with its attributes and methods."
      ]
    },
    {
      "cell_type": "markdown",
      "metadata": {
        "id": "Nc98SGNucvxt"
      },
      "source": [
        "<>check_eligibility(): Return true if eligibility criteria is satisfied by the instructor. Else, return false\n",
        "<>allocate_course(technology): Return true if the course which requires the given technology can be allocated to the instructor. Else, return false\n",
        "Perform case sensitive string comparison"
      ]
    },
    {
      "cell_type": "code",
      "execution_count": null,
      "metadata": {
        "colab": {
          "base_uri": "https://localhost:8080/",
          "height": 408
        },
        "id": "vY2emwxIcvxt",
        "outputId": "152b9c0a-0c24-4d10-8eca-c309e4742845"
      },
      "outputs": [
        {
          "ename": "TypeError",
          "evalue": "ignored",
          "output_type": "error",
          "traceback": [
            "\u001b[0;31m---------------------------------------------------------------------------\u001b[0m",
            "\u001b[0;31mTypeError\u001b[0m                                 Traceback (most recent call last)",
            "\u001b[0;32m<ipython-input-4-f3da6382ae72>\u001b[0m in \u001b[0;36m<module>\u001b[0;34m()\u001b[0m\n\u001b[1;32m     22\u001b[0m         \u001b[0mself\u001b[0m\u001b[0;34m.\u001b[0m\u001b[0mcourse\u001b[0m\u001b[0;34m=\u001b[0m\u001b[0;34m\"Technology\"\u001b[0m\u001b[0;34m\u001b[0m\u001b[0;34m\u001b[0m\u001b[0m\n\u001b[1;32m     23\u001b[0m \u001b[0;34m\u001b[0m\u001b[0m\n\u001b[0;32m---> 24\u001b[0;31m \u001b[0minst1\u001b[0m\u001b[0;34m=\u001b[0m\u001b[0mInstructor\u001b[0m\u001b[0;34m(\u001b[0m\u001b[0;34m\"san\"\u001b[0m\u001b[0;34m,\u001b[0m\u001b[0;36m3\u001b[0m\u001b[0;34m,\u001b[0m\u001b[0;36m5\u001b[0m\u001b[0;34m)\u001b[0m\u001b[0;34m\u001b[0m\u001b[0;34m\u001b[0m\u001b[0m\n\u001b[0m\u001b[1;32m     25\u001b[0m \u001b[0minst2\u001b[0m\u001b[0;34m=\u001b[0m\u001b[0mInstructor\u001b[0m\u001b[0;34m(\u001b[0m\u001b[0;34m\"isi\"\u001b[0m\u001b[0;34m,\u001b[0m\u001b[0;36m4\u001b[0m\u001b[0;34m,\u001b[0m\u001b[0;36m4.4\u001b[0m\u001b[0;34m)\u001b[0m\u001b[0;34m\u001b[0m\u001b[0;34m\u001b[0m\u001b[0m\n\u001b[1;32m     26\u001b[0m \u001b[0minst3\u001b[0m\u001b[0;34m=\u001b[0m\u001b[0mInstructor\u001b[0m\u001b[0;34m(\u001b[0m\u001b[0;34m\"mrl\"\u001b[0m\u001b[0;34m,\u001b[0m\u001b[0;36m8\u001b[0m\u001b[0;34m,\u001b[0m\u001b[0;36m4\u001b[0m\u001b[0;34m)\u001b[0m\u001b[0;34m\u001b[0m\u001b[0;34m\u001b[0m\u001b[0m\n",
            "\u001b[0;31mTypeError\u001b[0m: object() takes no parameters"
          ]
        }
      ],
      "source": [
        "class Instructor:\n",
        "    def _init_(self,name,experience,feedback):\n",
        "        self.name=name\n",
        "        self.experience=experience\n",
        "        self.avg_feedback=feedback\n",
        "        result=self.check_eligibility()\n",
        "        if(result==True):\n",
        "            self.allocate_course()\n",
        "            print(\"Instructor %s is eligible for course.\"%(self.name))\n",
        "        else:\n",
        "            print(\"Instructor %s is not eligible for course.\"%(self.name))\n",
        "\n",
        "    def check_eligibility(self):\n",
        "        if(self.experience>3 and self.avg_feedback>=4.5):\n",
        "            return True\n",
        "        elif(self.experience<=3 and self.avg_feedback>=4):\n",
        "            return True\n",
        "        else:\n",
        "            return False\n",
        "\n",
        "    def allocate_course(self):\n",
        "        self.course=\"Technology\"\n",
        "\n",
        "inst1=Instructor(\"san\",3,5)\n",
        "inst2=Instructor(\"isi\",4,4.4)\n",
        "inst3=Instructor(\"mrl\",8,4)\n",
        "inst4=Instructor(\"Ash\",5,6)\n",
        "inst5=Instructor(\"tps\",3,4)"
      ]
    }
  ],
  "metadata": {
    "colab": {
      "provenance": []
    },
    "kernelspec": {
      "display_name": "Python 3.10.6 64-bit",
      "language": "python",
      "name": "python3"
    },
    "language_info": {
      "codemirror_mode": {
        "name": "ipython",
        "version": 3
      },
      "file_extension": ".py",
      "mimetype": "text/x-python",
      "name": "python",
      "nbconvert_exporter": "python",
      "pygments_lexer": "ipython3",
      "version": "3.10.6"
    },
    "vscode": {
      "interpreter": {
        "hash": "26de051ba29f2982a8de78e945f0abaf191376122a1563185a90213a26c5da77"
      }
    }
  },
  "nbformat": 4,
  "nbformat_minor": 0
}
